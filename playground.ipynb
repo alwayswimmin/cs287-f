{
 "cells": [
  {
   "cell_type": "code",
   "execution_count": 2,
   "metadata": {},
   "outputs": [],
   "source": [
    "# from sandbox.celine_knowledge_graph import *\n",
    "# from sandbox.spacy_experiments import *\n",
    "# from sandbox.neuralcoref_experiments import *\n",
    "# from bert_embedding import BertEmbedding"
   ]
  },
  {
   "cell_type": "code",
   "execution_count": 1,
   "metadata": {},
   "outputs": [
    {
     "data": {
      "text/plain": [
       "<spacy.lang.en.English at 0x1149666d8>"
      ]
     },
     "execution_count": 1,
     "metadata": {},
     "output_type": "execute_result"
    }
   ],
   "source": [
    "import sys\n",
    "import spacy\n",
    "import neuralcoref\n",
    "import numpy as np\n",
    "import seaborn as sns\n",
    "import matplotlib.pyplot as plt\n",
    "\n",
    "import warnings\n",
    "warnings.filterwarnings(\"ignore\")\n",
    "\n",
    "nlp = spacy.load(\"en_core_web_lg\")\n",
    "neuralcoref.add_to_pipe(nlp)"
   ]
  },
  {
   "cell_type": "code",
   "execution_count": 2,
   "metadata": {},
   "outputs": [],
   "source": [
    "def clean_src(s):\n",
    "    s = s.split()\n",
    "    # remove everything from \"-lrb-\" to \"-rrb-\"\n",
    "    s2 = []\n",
    "    in_paren = False\n",
    "    for ixw, w in enumerate(s):\n",
    "        if(w==\"-lrb-\"):\n",
    "            in_paren=True\n",
    "        elif(w=='-rrb-'):\n",
    "            in_paren=False\n",
    "        elif(w==\"-lsb-\" or w==\"-rsb-\"):\n",
    "            continue\n",
    "        elif(len(w) > 1 and w[0] == '\\''):\n",
    "            s2[-1] = s2[-1]+w\n",
    "        elif not in_paren and not (w == '<t>' or w == '</t>'):\n",
    "            s2.append(w)\n",
    "    return ' '.join(s2)\n",
    "\n",
    "def clean_gen(s):\n",
    "    s = s.split()\n",
    "    # remove everything from \"-lrb-\" to \"-rrb-\"\n",
    "    s2 = []\n",
    "    in_paren = False\n",
    "    for w in s:\n",
    "        if(w==\"-lrb-\"):\n",
    "            in_paren=True\n",
    "        elif(w=='-rrb-'):\n",
    "            in_paren=False\n",
    "        elif(w==\"-lsb-\" or w==\"-rsb-\"):\n",
    "            continue\n",
    "        elif(len(w) > 1 and w[0] == '\\''):\n",
    "            s2[-1] = s2[-1]+w\n",
    "        elif not in_paren and not(w == '<t>' or w == '</t>'):\n",
    "            s2.append(w)\n",
    "    return ' '.join(s2)"
   ]
  },
  {
   "cell_type": "code",
   "execution_count": 3,
   "metadata": {},
   "outputs": [],
   "source": [
    "class KnowledgeGraph:\n",
    "    \n",
    "    def __init__(self):\n",
    "        self.relations = list()\n",
    "        self.noun_threshold = 0.9\n",
    "        self.verb_threshold = 0.9\n",
    "        self.weak_threshold = 0.5\n",
    "        self.entailment = 0\n",
    "        self.entailment_dissimilar_verbs = 0.5\n",
    "        self.dissimilar_verbs = 1\n",
    "        self.missing_dependencies = 2\n",
    "        self.contradiction = 3\n",
    "\n",
    "    # ==========================================\n",
    "    # 1) adding to KnowledgeGraph relations \n",
    "    # ==========================================\n",
    "    def add_verb(self, verb):\n",
    "        self.relations.append(self.get_relation(verb))\n",
    "        \n",
    "    ##### extracting relations from sentence #####\n",
    "    def get_relation(self, verb):\n",
    "        # get all equivalent verbs\n",
    "        verb_cluster = self.get_verb_cluster(verb)\n",
    "        actors = []\n",
    "        acteds = []\n",
    "        \n",
    "        # get all actors/acteds of verbs in equivalencies\n",
    "        for verb in verb_cluster:\n",
    "            actors += self.get_actors(verb)\n",
    "            acteds += self.get_acteds(verb)\n",
    "        return verb_cluster, actors, acteds\n",
    "    \n",
    "    # =========================================\n",
    "    # 2) looks through verb's children for\n",
    "    # verb equivalencies (xcomp)\n",
    "    # =========================================\n",
    "    def get_verb_cluster(self, verb):\n",
    "        verb_cluster = [verb]\n",
    "        for child in verb.children:\n",
    "            if child.dep_ == \"xcomp\":# or child.dep_ == \"ccomp\":\n",
    "                verb_cluster.append(child)\n",
    "        return verb_cluster\n",
    "        \n",
    "    def get_actors(self, verb):\n",
    "        actors = []\n",
    "        for child in verb.children:\n",
    "            # child is a nominative subject\n",
    "            if child.dep_ == \"nsubj\":\n",
    "                actors.append(child)\n",
    "            # child is something like \"by\"\n",
    "            elif child.dep_ == \"agent\":  \n",
    "                # passive, look for true actor\n",
    "                for grandchild in child.children:\n",
    "                    if grandchild.dep_ == \"pobj\":\n",
    "                        actors.append(grandchild)\n",
    "        return actors\n",
    "\n",
    "    def get_acteds(self, verb):\n",
    "        acteds = []\n",
    "        for child in verb.children:\n",
    "            #child is direct object or passive subject\n",
    "            if child.dep_ == \"dobj\" or child.dep_ == \"nsubjpass\":\n",
    "                acteds.append(child)\n",
    "        return acteds\n",
    "\n",
    "    # =========================================\n",
    "    # 3) checking hypothesis relation against \n",
    "    # premise's KnowledgeGraph relations\n",
    "    # =========================================\n",
    "    def query_relation(self, hypothesis):\n",
    "        missing_dependencies = []\n",
    "        contradiction = []\n",
    "        for premise in self.relations:\n",
    "            r = self.implied_relation(premise, hypothesis)\n",
    "\n",
    "            # once we find that hypothesis is contained, accept this relation as verified\n",
    "            # if the verb similarity is too low, we make note of this but still mark it as entailed\n",
    "            if r[0] == self.entailment:\n",
    "                return r[0], [(premise,r[1])]\n",
    "            elif r[0] == self.missing_dependencies:\n",
    "                missing_dependencies.append((premise, r[1]))\n",
    "            elif r[0] == self.contradiction:\n",
    "                contradiction.append((premise, r[1]))\n",
    "        if len(contradiction) > 0:\n",
    "            return self.contradiction, contradiction\n",
    "        return self.missing_dependencies, missing_dependencies\n",
    "    \n",
    "    # check if a hypothesis is verified by a premise \n",
    "    # returns (result, proof)\n",
    "    def implied_relation(self, premise, hypothesis):\n",
    "        # premise[0] and hypothesis[0] is a list (verb cluster)\n",
    "        verb_similarity, best_pair = self.verb_same(premise[0], hypothesis[0])\n",
    "        if verb_similarity < self.verb_threshold:\n",
    "            return self.dissimilar_verbs, hypothesis\n",
    "        \n",
    "        # check setminus of premise \\ hypothesis\n",
    "        actor_actor = self.noun_intersect_setminus(premise[1], hypothesis[1])\n",
    "        acted_acted = self.noun_intersect_setminus(premise[2], hypothesis[2])\n",
    "        actor_acted = self.noun_intersect_setminus(premise[1], hypothesis[2])\n",
    "        acted_actor = self.noun_intersect_setminus(premise[2], hypothesis[1])\n",
    "\n",
    "        contained_deps = actor_actor[0] + acted_acted[0]\n",
    "        missing_deps = actor_actor[1] + acted_acted[1]\n",
    "        contradiction_deps = actor_acted[0] + acted_actor[0]\n",
    "        \n",
    "        if len(missing_deps) == 0:\n",
    "            return self.entailment, (\"verb similarity:\", verb_similarity,\n",
    "                    \"contained dependences:\", contained_deps)\n",
    "        if len(contradiction_deps) > 0:\n",
    "            return self.contradiction, (\"verb similarity:\", verb_similarity,\n",
    "                    \"contradictory dependences:\", contradiction_deps)\n",
    "        return self.missing_dependencies, (\"verb similarity:\",\n",
    "                verb_similarity, \"missing dependencies:\", missing_deps)\n",
    "\n",
    "    \n",
    "    # ========================\n",
    "    # verb helper functions\n",
    "    # ========================\n",
    "    # v1 comes from premise/source, v2 comes from hypothesis/output\n",
    "    def verb_same(self, v1_cluster, v2_cluster):\n",
    "        maximum_similarity = 0\n",
    "        maximum_pair = None\n",
    "        for v1 in v1_cluster:\n",
    "            for v2 in v2_cluster:\n",
    "                similarity = v1.similarity(v2)\n",
    "                if(similarity > maximum_similarity):\n",
    "                    maximum_similarity = similarity\n",
    "                    maximum_pair = v1, v2\n",
    "        return maximum_similarity, maximum_pair\n",
    "    \n",
    "\n",
    "    # ========================\n",
    "    # noun helper functions\n",
    "    # ========================\n",
    "    def noun_intersect_setminus(self, supset, subset):\n",
    "        contained_nouns = []\n",
    "        missing_nouns = []\n",
    "        for n in subset:\n",
    "            contained = False\n",
    "            for n2 in supset:\n",
    "                r = self.noun_same(n, n2)\n",
    "                if verbose:\n",
    "                    print(n, n2, r)\n",
    "                if r[0]:\n",
    "                    contained = True\n",
    "                    contained_nouns.append((n, n2, r[1]))\n",
    "                    continue\n",
    "            if not contained:\n",
    "                missing_nouns.append(n)\n",
    "        return contained_nouns, missing_nouns\n",
    "\n",
    "    def noun_same(self, n1, n2):\n",
    "        tokens1 = self.get_valid_cluster_tokens(n1)\n",
    "        tokens2 = self.get_valid_cluster_tokens(n2)\n",
    "        if len(tokens1) == 0 or len(tokens2) == 0:\n",
    "            tokens1 = self.get_valid_cluster_tokens(n1, True)\n",
    "            tokens2 = self.get_valid_cluster_tokens(n2, True)\n",
    "        maximum_similarity = 0\n",
    "        maximum_pair = None\n",
    "        for token1 in tokens1:\n",
    "            for token2 in tokens2:\n",
    "                token_similarity = token1.similarity(token2)\n",
    "                if token_similarity > maximum_similarity:\n",
    "                    maximum_similarity = token_similarity\n",
    "                    maximum_pair = token1, token2\n",
    "        if maximum_similarity > self.noun_threshold:\n",
    "            return True, (\"best match:\", maximum_similarity, maximum_pair)\n",
    "        return False, (\"best match:\", maximum_similarity, maximum_pair)\n",
    "    \n",
    "    def get_valid_cluster_tokens(self, noun, use_generic=False):\n",
    "        tokens = list()\n",
    "        if (noun.pos_ == 'PRON' or noun.pos_ == 'DET') and noun.head.dep_ == 'relcl':\n",
    "            # the head is the verb of the relative clause\n",
    "            # the head of the verb should be the noun this thing refers to\n",
    "            if verbose:\n",
    "                print(\"found relative clause, replacing\", noun, \"with\", noun.head.head)\n",
    "            noun = noun.head.head\n",
    "        for cluster in noun._.coref_clusters:\n",
    "            for span in cluster:\n",
    "                for token in span:\n",
    "                    if use_generic or not self.is_generic(token):\n",
    "                        if verbose and self.is_generic(token):\n",
    "                            print(colored(\"warning:\", \"yellow\"), \"using generic token\", noun)\n",
    "                        tokens.append(token)\n",
    "        if len(tokens) == 0:\n",
    "            if use_generic or not self.is_generic(noun):\n",
    "                if verbose and self.is_generic(noun):\n",
    "                    print(colored(\"warning:\", \"yellow\"), \"using generic token\", noun)\n",
    "                tokens.append(noun)\n",
    "        return tokens \n",
    "\n",
    "    def is_generic(self, token):\n",
    "        return token.pos_ == \"PRON\" or token.pos_ == \"DET\"\n"
   ]
  },
  {
   "cell_type": "code",
   "execution_count": 4,
   "metadata": {},
   "outputs": [],
   "source": [
    "def test(src, gen):\n",
    "#     print(\"source:\", src_line[:100])\n",
    "#     print(\"summary:\", gen_line[:100])\n",
    "    src = nlp(src)\n",
    "    gen = nlp(gen)\n",
    "#     print(\"clusters:\", src._.coref_clusters)\n",
    "    kg = KnowledgeGraph()\n",
    "\n",
    "    # put all actors/acteds for each verb into knowledge graph\n",
    "    for ixt, token in enumerate(src):\n",
    "        if token.pos_ == \"VERB\":\n",
    "            kg.add_verb(token)\n",
    "    important_relations = []\n",
    "    contained = 0\n",
    "    missing = 0\n",
    "    contradiction = 0\n",
    "    total = 0\n",
    "    \n",
    "    for token in gen:\n",
    "        # ignore xcomp verbs \"tried TO EAT\" since will later be added to verb cluster\n",
    "        # still adds was/has/is/aux verbs though\n",
    "        if token.pos_ == \"VERB\" and not(token.dep_=='xcomp'):# or token.dep_=='ccomp'):\n",
    "            relation = kg.get_relation(token)\n",
    "            # skip those relations with no actors/acteds\n",
    "            if (len(relation[1]) + len(relation[2]) == 0):\n",
    "                continue\n",
    "            \n",
    "            total += 1\n",
    "            r = kg.query_relation(relation)\n",
    "            if r[0] == kg.entailment:\n",
    "                contained += 1\n",
    "                important_relations.append(('contained', relation, r[1]))\n",
    "                if(verbose):\n",
    "                    print(\"contained |\", relation, \"|\", r[1])\n",
    "#             elif r[0] == kg.entailment_dissimilar_verbs:\n",
    "#                 missing += 1\n",
    "#                 important_relations.append(('contained-noverb', relation, r[1]))\n",
    "#                 if(verbose):\n",
    "#                     print(\"contained-noverb |\", relation, \"|\", r[1])\n",
    "            elif r[0] == kg.missing_dependencies:\n",
    "                missing += 1\n",
    "                important_relations.append(('missing', relation, r[1]))\n",
    "                if(verbose):\n",
    "                    print(colored(\"missing\", \"yellow\"), \"|\", relation, \"|\", r[1])\n",
    "            elif r[0] == kg.contradiction:\n",
    "                contradiction += 1\n",
    "                important_relations.append(('contradiction', relation, r[1]))\n",
    "                if(verbose):\n",
    "                    print(colored(\"contradiction\", \"red\"), \"|\", relation, \"|\", r[1])\n",
    "    \n",
    "    important_relations = sorted(important_relations)\n",
    "    colored_src, colored_gen = visualize([word.text for word in src], [word.text for word in gen], important_relations)\n",
    "    \n",
    "    if total == 0:\n",
    "        return important_relations, (0.0, 0.0, 0.0), (colored_src, colored_gen)\n",
    "    return important_relations, (100.0 * contained / total, \n",
    "                                 100.0 * missing / total, \n",
    "                                 100.0 * contradiction / total), (colored_src, colored_gen)\n"
   ]
  },
  {
   "cell_type": "code",
   "execution_count": 5,
   "metadata": {},
   "outputs": [],
   "source": [
    "def visualize(src0, gen0, important_relations):\n",
    "    colors = {'contained':lambda text: '\\033[0;32m' + text + '\\033[0m', \n",
    "#               'contained-noverb':lambda text: '\\033[0;95m' + text + '\\033[0m', \n",
    "              'missing':lambda text: '\\033[0;33m' + text + '\\033[0m', \n",
    "              'contradiction':lambda text: '\\033[0;31m' + text + '\\033[0m'}\n",
    "\n",
    "    colored_src = src0\n",
    "    colored_gen = gen0\n",
    "    for order in ['missing', 'contained-noverb', 'contained', 'contradiction']:\n",
    "        for relation_tuple in important_relations:\n",
    "            result = relation_tuple[0]\n",
    "            relation = relation_tuple[1]\n",
    "            proof = relation_tuple[2]\n",
    "            if not(result == order):\n",
    "                continue\n",
    "            # color output doc\n",
    "            verbs = relation[0]\n",
    "            actors = relation[1]\n",
    "            acteds = relation[2]\n",
    "            for verb in verbs:\n",
    "                colored_gen[verb.i] = colors[result](verb.text)\n",
    "            for a in actors:\n",
    "                colored_gen[a.i] = colors[result](a.text)\n",
    "            for a in acteds:\n",
    "                colored_gen[a.i] = colors[result](a.text)\n",
    "\n",
    "            # color source doc\n",
    "            for p in proof:\n",
    "                for verb in p[0][0]:\n",
    "                    colored_src[verb.i] = colors[result](verb.text)\n",
    "                for a in p[0][1]:\n",
    "                    colored_src[a.i] = colors[result](a.text)\n",
    "                for a in p[0][2]:\n",
    "                    colored_src[a.i] = colors[result](a.text)\n",
    "\n",
    "    colored_src = ' '.join(colored_src)\n",
    "    colored_gen = ' '.join(colored_gen)\n",
    "\n",
    "    return colored_src, colored_gen"
   ]
  },
  {
   "cell_type": "code",
   "execution_count": 6,
   "metadata": {},
   "outputs": [],
   "source": [
    "# returns average number of tokens copied = max copy length / unique phrases copied\n",
    "def avg_copy_length(src,gen):\n",
    "    src = src.split()\n",
    "    gen = gen.split()\n",
    "    substrings = {}\n",
    "    for ixgw,word in enumerate(gen):\n",
    "        substrings[ixgw] = []\n",
    "    \n",
    "    avg_length = 0\n",
    "    num_copied = 0\n",
    "    ixgw = 0\n",
    "    while(ixgw < len(gen)):\n",
    "        gen_word = gen[ixgw]\n",
    "        max_js = []\n",
    "        src_ixs = []\n",
    "        for ixsw, src_word in enumerate(src):\n",
    "            j = 0\n",
    "            while(ixgw+j <= len(gen) and ixsw+j <= len(src) and src[ixsw:ixsw+j] == gen[ixgw:ixgw+j]):\n",
    "                j += 1\n",
    "            if(len(max_js) == 0 or j > max_js[0]):\n",
    "                max_js = [j]\n",
    "                src_ixs = [ixsw]\n",
    "            elif(j == max_js[0]):\n",
    "                max_js.append(j)\n",
    "                src_ixs.append(ixsw)\n",
    "        substrings[ixgw] = ([gen[ixgw:ixgw+max_j-1] for max_j in max_js], src_ixs)\n",
    "        ixgw += 1\n",
    "        \n",
    "    for ixgw,gen_word in enumerate(gen):\n",
    "#         substr = substrings[ixgw][0]\n",
    "#         src_ix = substrings[ixgw][1]\n",
    "        contained = False\n",
    "        for src_ix in substrings[ixgw][1]:\n",
    "            if ixgw > 0 and src_ix-1 in substrings[ixgw-1][1]:\n",
    "                contained=True\n",
    "                break\n",
    "        \n",
    "        if not contained:\n",
    "            if(len(substrings[ixgw][0])>0):\n",
    "                num_copied += 1\n",
    "#                 print(substrings[ixgw])\n",
    "#                 print(len(substrings[ixgw][0][0]))\n",
    "                avg_length += len(substrings[ixgw][0][0])\n",
    "    avg_length /= num_copied\n",
    "    \n",
    "    return avg_length "
   ]
  },
  {
   "cell_type": "code",
   "execution_count": 10,
   "metadata": {
    "scrolled": false
   },
   "outputs": [
    {
     "name": "stdout",
     "output_type": "stream",
     "text": [
      "===========================================================================================\n",
      "Src 0: vatanka : tensions between iran and saudi arabia are at an unprecedented level . iran has proposed a four - point plan for yemen but saudis have ignored it . vatanka : saudis have tried to muster a ground invasion coalition but have failed . relations between iran and saudi arabia have always been thorny , but rarely has the state of affairs been as venomous as \u001b[0;33mit\u001b[0m \u001b[0;33mis\u001b[0m today . tehran and riyadh each point to the other as the main reason for much of the turmoil in the middle east . in its most recent incarnation , the iranian - saudi conflict by proxy has reached yemen in a spiral that both sides portray as climatic . for riyadh and its regional allies , the saudi military intervention in yemen -- ` ` operation decisive \u001b[0;33mstorm\u001b[0m ' ' -- \u001b[0;33mis\u001b[0m the moment the sunni arab nation finally woke up to repel the expansion of shia - iranian influence . for tehran and its regional allies -- including the houthi movement in yemen -- saudi arabia 's actions are in defense of a retrogressive status quo order \u001b[0;33mthat\u001b[0m \u001b[0;33mis\u001b[0m no longer tenable . and yet both sides have good reasons to want to stop the yemeni crisis from spiraling out of control and evolving into an unwinnable war . when iranian president hassan rouhani was elected in june 2013 , he pledged to reach out to riyadh . he was up front and called tehran 's steep deterioration of relations with the saudis over the last decade as one of the principal burdens on iranian foreign policy . from lebanon and afghanistan to pakistan and the gaza strip , the iranian - saudi rivalry and conflict through proxy has been deep and costly . and yet despite rouhani 's open pledge , profound differences over syria and iraq in particular have kept riyadh and tehran apart . but if the questions of syria and iraq prevented a pause in hostilities , the saudi military intervention in yemen since late march has all but raised the stakes to unprecedentedly dangerous levels . unlike in syria and in iraq , the saudi military \u001b[0;33mis\u001b[0m now directly battling it out with iranian - backed rebels in yemen . while riyadh no doubt exaggerates tehran 's role in the yemen crisis , its fingerprints are nonetheless evident . ` ` iran provides financial support , weapons , training and intelligence to houthis , '' gerald feierstein , a u.s . state department official and former yemen ambassador , told a congressional hearing last week . ` ` we believe that iran sees opportunities with the houthis to \u001b[0;33mexpand\u001b[0m its \u001b[0;33minfluence\u001b[0m in yemen and threaten saudi and gulf arab\n",
      "===========================================================================================\n",
      "Summary 0: tehran and saudi military intervention in yemen in the middle east . for riyadh , the sunni arab \u001b[0;33mnation\u001b[0m \u001b[0;33mis\u001b[0m in a spiral status quo order . the saudi \u001b[0;33mmilitary\u001b[0m is \u001b[0;33mtrying\u001b[0m to \u001b[0;33mexpand\u001b[0m \u001b[0;33mrebels\u001b[0m in yemen .\n",
      "Score: (0.0, 100.0, 0.0)\n",
      "Avg copy length: 2.9285714285714284\n",
      "===========================================================================================\n",
      "===========================================================================================\n",
      "===========================================================================================\n",
      "Src 1: the reporter , 43 , had been admitted to hospital for the fourth time this year relating to the sexual assault she suffered in 2011 . \u001b[0;32mshe\u001b[0m \u001b[0;32mis\u001b[0m now back home and recovering . logan was previously diagnosed with digestive disease diverticulitis , possibly aggravated by stress , and hospitalized in february . last year , the married mother - of - two was quarantined in south africa after reporting from the ebola hot zone in liberia . cbs correspondent lara logan , \u001b[0;32mwho\u001b[0m was brutally sexually \u001b[0;32massaulted\u001b[0m while reporting in egypt in 2011 , is back home and recovering after \u001b[0;32mshe\u001b[0m reportedly \u001b[0;32mchecked\u001b[0m into a dc hospital for at least the fourth time this year . she is said to be resting at her home in the washington dc area but working on upcoming stories . a close family friend of logan 's , financial pundit ed butowsky , confirmed late last month that the 43-year - old had been hospitalized and revealed the extent of the journalism heavy hitter 's suffering since the attack in cairo 's tahrir square . scroll down for video . lara logan is back home and recovering after being hospitalized for the fourth time this year . logan pictured shortly before she was sexually assaulted in tahrir square while \u001b[0;32mshe\u001b[0m was \u001b[0;32mreporting\u001b[0m on the egyptian protests in february 2011 . ` very few people know how stoic and incredibly tough this lady is ... no idea the physical suffering she has been enduring , ' said butowsky according to the new york post . butowsky previously told breitbart that logan had been in and out of the hospital since the attack , which occurred while logan was reporting on the arab spring . on february 11 , 2011 , logan was the victim of a ` sustained and brutal ' sexual assault as she reported from cairo on the resignation of president mubarak . she was surrounded by a mob of 200 - 300 men after being dragged away from her tv crew in tahrir square , seconds after egyptian colleagues heard men talking about wanting to take her pants off . the group tore her clothes from her body , groped and beat her , she later told the new york times . ` for an extended period of time , they raped me with their hands , ' the reporter said and she was subjected to ` aggressive pinching ' . \u001b[0;33mshe\u001b[0m was \u001b[0;33mrescued\u001b[0m by a \u001b[0;33mgroup\u001b[0m of women and up to 20 egyptian soldiers . logan has since returned to the middle east . on sunday , 60 minutes aired her report on the persecution of iraqi christians by isis . ` she did the story while isis was just four to six miles from where she was reporting , ' butowsky said . ` she did the story over\n",
      "===========================================================================================\n",
      "Summary 1: lara \u001b[0;32mlogan\u001b[0m \u001b[0;32mis\u001b[0m back home and recovering after \u001b[0;32mshe\u001b[0m reportedly \u001b[0;32mchecked\u001b[0m into a dc hospital for at least the fourth time this year . \u001b[0;32mshe\u001b[0m was brutally sexually \u001b[0;32massaulted\u001b[0m while reporting in egypt in 2011 . \u001b[0;33mshe\u001b[0m was \u001b[0;33mrescued\u001b[0m by a \u001b[0;33mmob\u001b[0m of 200 - 300 men after \u001b[0;32mshe\u001b[0m was \u001b[0;32mreporting\u001b[0m from cairo on the resignation of president mubarak .\n",
      "Score: (80.0, 20.0, 0.0)\n",
      "Avg copy length: 7.5\n",
      "===========================================================================================\n",
      "===========================================================================================\n",
      "===========================================================================================\n",
      "Src 2: michel vorm 's tottenham chances have been few since swansea transfer . but \u001b[0;32mvorm\u001b[0m is \u001b[0;32mset\u001b[0m to \u001b[0;32mcover\u001b[0m for injured hugo lloris against burnley . manager mauricio pochettino has praised vorm 's attitude and character . tottenham manager mauricio pochettino is in no doubt goalkeeper michel vorm has the strength of character to put his capital one cup final disappointment behind him and again prove an able deputy for hugo lloris at burnley on sunday . with france international lloris sidelined by a knee injury , dutchman \u001b[0;33mvorm\u001b[0m will \u001b[0;33mstand\u001b[0m in at turf moor . the 31-year - old , \u001b[0;33msigned\u001b[0m from swansea in the summer , had to watch on from the bench at wembley against chelsea in last month 's league cup final defeat , despite having featured in the earlier rounds . michel vorm is set to deputise in place of hugo lloris when tottenham play burnley on sunday . lloris sustained a knee injury in tottenham 's 4 - 3 victory over leicester in the premier league . mauricio pochettino has praised vorm 's attitude despite being behind lloris in the pecking order . pochettino , however , has every confidence vorm can produced the required performance when thrown back into the action against the clarets . ` michel took it very well . i have no worries about him . he is a good professional and he is fine , ' the argentinian said . ` it is always it is difficult and it was the same with the other players who were left out . ' i was sorry for him , but also for the players who were on the bench or out of the squad . it is always difficult when you play a final and you have to choose the starting 11 . ' pochettino has been impressed by vorm 's mentality , having left a regular starting place at swansea to play back - up to lloris . ` when i spoke with him about signing , he knew - i never lied to him . i told him our proposal and were very clear , ' the spurs boss said . vorm played in all of the capital one cup games for tottenham except the final . pochettino will again take on burnley manager sean dyche at turf moor on sunday . tottenham head to burnley in some positive form , having lost just once in the last four barclays premier league matches before the international break - and that at manchester united . pochettino , though , knows a solid collective defensive performance will\n",
      "===========================================================================================\n",
      "Summary 2: michel \u001b[0;32mvorm\u001b[0m is \u001b[0;32mset\u001b[0m to \u001b[0;32mdeputise\u001b[0m in place of hugo lloris at burnley on sunday . france international \u001b[0;33mlloris\u001b[0m will \u001b[0;33mstand\u001b[0m in at turf moor . the 31-year - \u001b[0;33mold\u001b[0m \u001b[0;33msigned\u001b[0m from swansea in the summer .\n",
      "Score: (33.333333333333336, 66.66666666666667, 0.0)\n",
      "Avg copy length: 6.166666666666667\n",
      "===========================================================================================\n",
      "===========================================================================================\n"
     ]
    },
    {
     "name": "stdout",
     "output_type": "stream",
     "text": [
      "===========================================================================================\n",
      "Src 3: juanette cullum , 48 , also allegedly stole two laptops and many toiletries . she was arrested after a \u001b[0;32mwitness\u001b[0m \u001b[0;32msaw\u001b[0m \u001b[0;32mher\u001b[0m \u001b[0;32mstealing\u001b[0m \u001b[0;32mproperty\u001b[0m , prosecutors said . officials said cullen admitted to stealing from american airline planes for the last three years . was charged with grand larceny and criminal possession of stolen property . jfk airplane cleaner juanette cullum , 48 , allegedly stole almost $ 15,000 items from american airline planes over the last three years . an airplane \u001b[0;32mcleaner\u001b[0m at john f. kennedy international \u001b[0;32mairport\u001b[0m \u001b[0;32mstole\u001b[0m almost $ 15,000 \u001b[0;32mworth\u001b[0m of items , including more than 1,400 unopened miniature bottles of liquor , according to police . \u001b[0;32mjuanette\u001b[0m cullum , 48 , was \u001b[0;32marrested\u001b[0m after a witness allegedly saw her stealing property and informed american airline officials , a port authority of new york and new jersey spokesman said . joe pentangelo said detectives subsequently searched cullum 's brooklyn home , where they also found 19 kindle tablets , seven ipads , two laptops and a ` large amount ' of toiletries , according to the associated press . the miniature liquor bottle were hidden in one of her closets , prosecutors said . officials said cullum admitted she had been stealing from american airline planes for the last three years , the new york daily news reported . \u001b[0;32mcullum\u001b[0m has been \u001b[0;32mcharged\u001b[0m with grand larceny and criminal possession of stolen property and was released on her own recognizance .\n",
      "===========================================================================================\n",
      "Summary 3: an airplane \u001b[0;32mcleaner\u001b[0m at john f. kennedy international airport \u001b[0;32mstole\u001b[0m almost $ 15,000 \u001b[0;32mworth\u001b[0m of items including more than 1,400 unopened bottles of liquor . \u001b[0;32mjuanette\u001b[0m cullum , 48 , was \u001b[0;32marrested\u001b[0m after a \u001b[0;32mwitness\u001b[0m allegedly \u001b[0;32msaw\u001b[0m \u001b[0;32mher\u001b[0m \u001b[0;32mstealing\u001b[0m \u001b[0;32mproperty\u001b[0m . \u001b[0;32mcullum\u001b[0m has been \u001b[0;32mcharged\u001b[0m with grand larceny and criminal possession of stolen property .\n",
      "Score: (100.0, 0.0, 0.0)\n",
      "Avg copy length: 9.166666666666666\n",
      "===========================================================================================\n",
      "===========================================================================================\n",
      "===========================================================================================\n",
      "Src 4: tom \u001b[0;32mlineham\u001b[0m \u001b[0;32mscored\u001b[0m two interception \u001b[0;32mtries\u001b[0m in an eye - catching display . jamie shaul also crossed late on for the home side . kevin brown and patrick ah van replied for widnes . tom lineham scored two interception tries in an eye - catching hat - trick as \u001b[0;32mhull\u001b[0m \u001b[0;32mfc\u001b[0m \u001b[0;32mbeat\u001b[0m \u001b[0;32mwidnes\u001b[0m 22 - 8 to make it back - to - back wins for the first time since last june . \u001b[0;32mlineham\u001b[0m \u001b[0;32mscored\u001b[0m a \u001b[0;32mtreble\u001b[0m in a losing cause at castleford last month but his efforts on friday night settled a drab contest at the kc stadium . the 22-year - old winger showed good opportunism and no little speed on two occasions to pluck passes out of the air and race over 90 metres to add to his early opener . the hat - trick puts him out in front as super league 's most prolific finisher in 2015 . tom lineham scored two interception tries in an eye - catching hat - trick as hull fc beat widnes 22 - 8 . jamie shaul went over late on to make sure of the two competition points for hull , with tries from kevin brown and patrick ah van unable to prevent widnes from falling to a fifth away defeat out of five . it was a third match in nine days for both sides , although widnes had reason to feel more hard done by after their easter monday trip to catalans . ah van had an early opportunity to give the vikings an extra spring in their step but a foot in touch saw his effort ruled out , although rhys hanbury 's pass was forward in any case . there was no doubt when lineham slid over in the corner at the other end after shaul had spun out of a tackle and found his winger with a nice cut - out pass . the vikings were defending doggedly near their own line to prevent a second hull try when stefan marsh and chris dean were both forced off following a sickening clash of heads . lineham had a good chance to lay the platform for another hull raid following a break down the right but his pass was intercepted by former black and whites hooker aaron heremaia . widnes worked their way downfield and were back level when brown , whose high kick in the build - up appeared to have gone forward off ah van , forced the ball down from dummy half . the vikings lost a third player as lloyd white hobbled off , but they thought they had edged in front when joe mellor touched down his own dab through , only for the video referee to\n",
      "===========================================================================================\n",
      "Summary 4: hull \u001b[0;32mfc\u001b[0m \u001b[0;32mbeat\u001b[0m \u001b[0;32mwidnes\u001b[0m 22 - 8 to make it back - to - back wins for the first time since last june . tom \u001b[0;32mlineham\u001b[0m \u001b[0;32mscored\u001b[0m two interception \u001b[0;32mtries\u001b[0m in an eye - catching hat - trick . \u001b[0;32mlineham\u001b[0m \u001b[0;32mscored\u001b[0m a \u001b[0;32mtreble\u001b[0m in the hat - trick at castleford last month .\n",
      "Score: (100.0, 0.0, 0.0)\n",
      "Avg copy length: 6.285714285714286\n",
      "===========================================================================================\n",
      "===========================================================================================\n",
      "===========================================================================================\n",
      "Src 5: institute for fiscal studies says taxes will be # 12b higher under labour . \u001b[0;33msaid\u001b[0m the gap ` between the parties ' was ` bigger than any time since 1992 ' david \u001b[0;33mcameron\u001b[0m \u001b[0;33msaid\u001b[0m assessment showed labour was ` risk to our recovery ' in withering verdict , think \u001b[0;33mtank\u001b[0m \u001b[0;33msaid\u001b[0m parties were keeping voters in the dark . taxes will be # 12billion a year higher under labour than the tories , independent experts warned yesterday -- equal to # 1,052 for every working household . the \u001b[0;32minstitute\u001b[0m for fiscal studies \u001b[0;32msaid\u001b[0m ed miliband 's ` vague ' \u001b[0;32mpromise\u001b[0m to \u001b[0;32mbalance\u001b[0m the \u001b[0;32mbooks\u001b[0m would \u001b[0;32mallow\u001b[0m \u001b[0;32mlabour\u001b[0m to \u001b[0;32mborrow\u001b[0m # \u001b[0;32m90billion\u001b[0m more than the tories by 2020 . \u001b[0;32mthis\u001b[0m would \u001b[0;32mrise\u001b[0m to # 280billion in extra debt by the end of the next decade if labour remained in power . \u001b[0;33minstitute\u001b[0m for fiscal studies \u001b[0;33msaid\u001b[0m ed miliband 's ` vague ' promise to balance the books would allow labour to borrow # 90billion more than the tories by 2020 and this would rise to # 280b in extra debt by the next decade . david \u001b[0;33mcameron\u001b[0m \u001b[0;33msaid\u001b[0m the assessment showed \u001b[0;32mlabour\u001b[0m \u001b[0;32mwas\u001b[0m ' a risk to our recovery , a risk to our economy , a risk to jobs ' the think - tank warned that labour 's failure to control borrowing would leave britain ` less well placed to deal with future adverse events ' , such as another recession or the costs of an ageing population . but it was also highly critical of the lack of detail in the conservatives ' plans , saying the party had failed to spell out where it would find tens of billions of pounds in cuts . in a withering verdict , \u001b[0;33mit\u001b[0m \u001b[0;33msaid\u001b[0m all the main parties were keeping voters ` in the dark ' about what they would do , adding : ` none of the parties has provided anything like full details of their fiscal plans for each year of the coming parliament . ' ifs director paul \u001b[0;33mjohnson\u001b[0m \u001b[0;33msaid\u001b[0m : ` all the parties have told us where they are going to increase spending on things like health , but \u001b[0;33mnone\u001b[0m have \u001b[0;33msaid\u001b[0m \u001b[0;33mmuch\u001b[0m about where the pain \u001b[0;33mis\u001b[0m going to fall . ' \u001b[0;33mhe\u001b[0m \u001b[0;33msaid\u001b[0m the gap between the parties ' plans was ` bigger than any time since 1992 ' -- giving voters a clear choice between more taxes , spending or borrowing . conservative plans require whitehall cuts of # 30billion , while labour could get away with savings of just # 1billion . carl emmerson , deputy director of the ifs , added : ` the electorate has a real choice , although it can at best see only the broad outlines of that\n",
      "===========================================================================================\n",
      "Summary 5: \u001b[0;32minstitute\u001b[0m for fiscal studies \u001b[0;32msaid\u001b[0m ed miliband 's ` vague ' \u001b[0;32mpromise\u001b[0m to \u001b[0;32mbalance\u001b[0m the \u001b[0;32mbooks\u001b[0m would \u001b[0;32mallow\u001b[0m \u001b[0;32mlabour\u001b[0m to \u001b[0;32mborrow\u001b[0m # \u001b[0;32m90billion\u001b[0m more than the tories by 2020 . \u001b[0;32mthis\u001b[0m would \u001b[0;32mrise\u001b[0m to # 280billion in extra debt by the end of the next decade if \u001b[0;33mlabour\u001b[0m \u001b[0;33mis\u001b[0m in power . \u001b[0;32mlabour\u001b[0m \u001b[0;32mwas\u001b[0m ' a risk , a risk of jobs ' , \u001b[0;33msaid\u001b[0m \u001b[0;33mlabour\u001b[0m .\n",
      "Score: (75.0, 25.0, 0.0)\n",
      "Avg copy length: 6.090909090909091\n",
      "===========================================================================================\n",
      "===========================================================================================\n"
     ]
    },
    {
     "name": "stdout",
     "output_type": "stream",
     "text": [
      "===========================================================================================\n",
      "Src 6: she claims a california \u001b[0;32mjudge\u001b[0m \u001b[0;32mdeported\u001b[0m her \u001b[0;32mchildren\u001b[0m illegally in 2012 . california court ruled rutherford 's ex - husband daniel giersch could take the children to live in france and spend vacations with in the us . her petition to custody battle was dismissed in court last august . but in one final attempt she put in another appeal , which was dismissed . court order states that it did ` nt have jurisdiction to force kids to live in us . the permanent dismissal says that \u001b[0;32mrutherford\u001b[0m \u001b[0;32mfailed\u001b[0m to \u001b[0;32margue\u001b[0m why the federal \u001b[0;32mcourt\u001b[0m should \u001b[0;32mintervene\u001b[0m in custody case . a lawsuit filed by former gossip girl actress kelly rutherford attempting to have a judge order her kids to return to the u.s . from their father 's custody in france has been dismissed once and for all . the case was dismissed with a court order stating that it did not have the jurisdiction to force the kids , son hermes , 8 , and daughter helena , 5 , to come back to the united states . \u001b[0;32mrutherford\u001b[0m , 46 , \u001b[0;32mclaims\u001b[0m her children were illegally deported to france when a california \u001b[0;32mcourt\u001b[0m \u001b[0;32mawarded\u001b[0m \u001b[0;32mcustody\u001b[0m to her ex - husband daniel giersch , 40 , and \u001b[0;32mshe\u001b[0m \u001b[0;32mpleaded\u001b[0m for the \u001b[0;32morder\u001b[0m to be \u001b[0;32mreversed\u001b[0m . scroll down for video . kelly rutherford , pictured with her children , hermes and helena , during a party in the hamptons in august 2013 , was shut down by the courts again in a final plea to gain custody of her children . rutherford 's lawsuit stating that her children were illegally deported from the united states was dismissed once and for all by a new york court . she claimed that no other u.s . \u001b[0;32mcourt\u001b[0m has \u001b[0;32mordered\u001b[0m \u001b[0;32mchildren\u001b[0m to \u001b[0;32mlive\u001b[0m in another country when \u001b[0;32mthey\u001b[0m \u001b[0;32mhave\u001b[0m an able \u001b[0;32mparent\u001b[0m in the united states . giersch , who is a german citizen residing in france , was deported from the u.s . over allegations of visa fraud . but the dismissal of her case states that rutherford failed to argue why the federal court should intervene in her custody dispute with giersch . ` petitioners allege that the california state court 's custody order had the effect of deporting the children in violation of their fourteenth amendment right to remain in the united states , ' the document reads . the document added : ` there is no authority establishing the unconditional right of minor children to reside in the united states when one of their custodial parents lives abroad . ` likewise there is no ` ` plainly defined and peremptory duty ' ' requiring respondents to interfere with the custody order - nor is there , as petitioners contend , a general affirmative duty on federal agencies requiring them to intervene against what is claimed to be unconstitutional state action . ' after divorcing in 2010 , rutherford and ex - husband daniel giersch went through a nasty custody battle which ended with giersch being awarded custody\n",
      "===========================================================================================\n",
      "Summary 6: kelly \u001b[0;32mrutherford\u001b[0m , 46 , \u001b[0;32mclaims\u001b[0m her \u001b[0;32mchildren\u001b[0m were illegally \u001b[0;32mdeported\u001b[0m to france when a california \u001b[0;32mcourt\u001b[0m \u001b[0;32mawarded\u001b[0m \u001b[0;32mcustody\u001b[0m to her ex - husband daniel giersch , 40 , and \u001b[0;32mshe\u001b[0m \u001b[0;32mpleaded\u001b[0m for the \u001b[0;32morder\u001b[0m to be \u001b[0;32mreversed\u001b[0m . rutherford 's \u001b[0;33mlawsuit\u001b[0m \u001b[0;33msaid\u001b[0m \u001b[0;33mthat\u001b[0m no other u.s . \u001b[0;32mcourt\u001b[0m has \u001b[0;32mordered\u001b[0m \u001b[0;32mchildren\u001b[0m to \u001b[0;32mlive\u001b[0m in another country when \u001b[0;32mthey\u001b[0m \u001b[0;32mhave\u001b[0m an able \u001b[0;32mparent\u001b[0m in the united states . \u001b[0;32mrutherford\u001b[0m \u001b[0;32mfailed\u001b[0m to \u001b[0;32margue\u001b[0m why the federal \u001b[0;32mcourt\u001b[0m should \u001b[0;32mintervene\u001b[0m in her custody dispute with giersch .\n",
      "Score: (90.0, 10.0, 0.0)\n",
      "Avg copy length: 12.8\n",
      "===========================================================================================\n",
      "===========================================================================================\n",
      "===========================================================================================\n",
      "Src 7: the bombing is ` ` an attack against the future of our country , '' somalia 's president says . unicef says the staff members ' vehicle was hit by an explosion on its way to their office . four wounded staff members are in serious condition , the agency says . an improvised \u001b[0;32mbomb\u001b[0m \u001b[0;32mexploded\u001b[0m near a u.n . vehicle traveling near the northeastern somali city of garowe on monday morning , killing six people -- including four aid workers for the international children 's agency unicef . somalia 's president called it ` ` an attack against the future of our country . ' ' the attack follows a separate incident sunday in which three african union \u001b[0;32mtroops\u001b[0m \u001b[0;32mdied\u001b[0m in an ambush in the lower shabelle region of somalia . the terrorist group al - shabaab claimed responsibility for monday 's attack , which occurred about 8 a.m. in the administrative capital of the autonomous puntland region , according to the united nations assistance mission in somalia . four of the victims were foreigners and two were somalis , said ahmed abdullahi samatar , the police chief of puntland . unicef , the u.n . aid agency focused on children , said it employed four of the dead . four other workers were in serious condition , the agency said . the bomb went off as a vehicle was taking workers from their guest house to their office . the local police chief said the bomber was inside the vehicle among the u.n . staff . the bomber also died in the attack , according to authorities . nick kay , the special representative of the u.n . secretary - general for somalia , condemned the attack on his twitter account . ` ` shocked and appalled by loss of life , '' he said . somalia 's president , hassan sheikh mohamud , said he was horrified by the attack . ` ` this attack is not just targeted at the united nations , but in attacking unicef , al - shabaab has also attacked somali children . it is an attack against the future of our country and i condemn it in the strongest possible terms , '' he said . unicef called the slain workers ` ` an integral part of unicef 's work in somalia , dedicated to improving the lives of others . ' ' al - shabaab , the al qaeda - affiliated terrorist group based in somalia , caused outrage this month by carrying out an attack on a kenyan university . nearly 150 people , most of them students , died in that attack . in the sunday incident , three african union troops were ambushed in the lower shabelle region . the african union commission for somalia ,\n",
      "===========================================================================================\n",
      "Summary 7: an improvised \u001b[0;32mbomb\u001b[0m \u001b[0;32mexploded\u001b[0m near a u.n . vehicle . three african union \u001b[0;32mtroops\u001b[0m \u001b[0;32mdied\u001b[0m in an ambush in somalia . somalia 's \u001b[0;33mpresident\u001b[0m \u001b[0;33mcalls\u001b[0m \u001b[0;33mit\u001b[0m an attack against our country .\n",
      "Score: (66.66666666666667, 33.333333333333336, 0.0)\n",
      "Avg copy length: 3.75\n",
      "===========================================================================================\n",
      "===========================================================================================\n",
      "===========================================================================================\n",
      "Src 8: matilda kahl , an art director at saatchi & saatchi , owns 15 of the same white shirt and several pairs of plain black trousers . she has just had to invest in 15 new shirts from zara because the others are now too worn to \u001b[0;33mwear\u001b[0m but has no other plans to change her ` uniform ' a new york woman has \u001b[0;33mworn\u001b[0m the same \u001b[0;33mensemble\u001b[0m to work every day for three years . matilda kahl , an art director at saatchi & saatchi , wears the exact same ` uniform ' -- an outfit made up of black trousers , white shirt and a custom leather rosette -- every single day because , as she explains to dailymail.com : ` when at work , \u001b[0;33mi\u001b[0m \u001b[0;33mwant\u001b[0m to \u001b[0;33mbe\u001b[0m \u001b[0;33mjudged\u001b[0m on my work and my work only . ' in an article for harper 's bazaar , matilda explained that the unique sartorial idea came to her after a particularly stressful morning when , with ' a fairly important meeting on the horizon ' she began trying on a variety outfits to no satisfaction . scroll down for video . empowering : saatchi & saatchi art director matilda kahl has got everyone talking about her everyday work ` uniform ' ` i \u001b[0;33m'm\u001b[0m given complete freedom over \u001b[0;33mwhat\u001b[0m \u001b[0;33mi\u001b[0m \u001b[0;33mwear\u001b[0m to the office , but that still left me questioning each piece that i added or subtracted from my outfit , ' she wrote . ' i kept thinking , ` ` is this too formal ? is that too out there ? is this dress too short ? '' i finally chose something i regretted as soon as i hit the subway platform . ' arriving at her meeting late , frazzled and wearing an inside - out sweater , while her male colleagues and new boss looked relaxed and at - ease , left her feeling frustrated and wondering why she 'd bothered with the stress of it at all . ' i knew my male colleagues were taken seriously no matter what they wore - and i highly doubted they put in as much sartorial time and effort as i had , ' she writes . ` but gender issues aside , i needed to come up with a solution to simplify this morning struggle . ' vowing to never let herself feel that way again , matilda made the decision to make the same simple , easy wardrobe choices as many of her male colleagues did , wearing the same outfit each and every day , thereby eliminating the seemingly endless struggle to determine \u001b[0;33mwhat\u001b[0m to \u001b[0;33mwear\u001b[0m . simple , yet effective : matilda achieved her look by buying blouses in bulk and pairing them only\n",
      "===========================================================================================\n",
      "Summary 8: matilda \u001b[0;33mkahl\u001b[0m , a new york \u001b[0;33mwoman\u001b[0m has \u001b[0;33mworn\u001b[0m the same \u001b[0;33mensemble\u001b[0m to work every day for three years . saatchi & saatchi art director matilda \u001b[0;33mkahl\u001b[0m \u001b[0;33msays\u001b[0m her \u001b[0;33mwork\u001b[0m ` \u001b[0;33muniform\u001b[0m ' was ` \u001b[0;33mjudged\u001b[0m on my work and my work only ' in an interview for harper 's matilda , \u001b[0;33mmatilda\u001b[0m \u001b[0;33msaid\u001b[0m \u001b[0;33mshe\u001b[0m \u001b[0;33mwant\u001b[0m to dailymail.com as \u001b[0;33mshe\u001b[0m \u001b[0;33mwear\u001b[0m to the office . \u001b[0;33mshe\u001b[0m \u001b[0;33msaid\u001b[0m : ` \u001b[0;33mit\u001b[0m \u001b[0;33m's\u001b[0m very out this year , \u001b[0;33mi\u001b[0m \u001b[0;33m'm\u001b[0m like \u001b[0;33mi\u001b[0m 'm \u001b[0;33mgoing\u001b[0m to \u001b[0;33mbe\u001b[0m a uniform . '\n",
      "Score: (0.0, 100.0, 0.0)\n",
      "Avg copy length: 3.3157894736842106\n",
      "===========================================================================================\n",
      "===========================================================================================\n"
     ]
    },
    {
     "name": "stdout",
     "output_type": "stream",
     "text": [
      "===========================================================================================\n",
      "Src 9: celtic beat st mirren 2 - 0 in their scottish premiership clash on good friday . leigh griffiths was named among the celtic substitutes for the match . striker was caught eating a biscuit during the first 10 minutes of the match . that really takes the biscuit ! celtic 's leigh griffiths invoked the power of the tunnock 's tea cake in his warm - up routine for good friday night 's game with st mirren . the controversial striker warily looked round in the dug - out before unwrapping the tasty treat within the first 10 minutes of the vital spl encounter . his manager , ronnie deila has encouraged the concept of the 24/7 athlete by insisting on a strict diet regime for his players . celtic striker leigh \u001b[0;32mgriffiths\u001b[0m was \u001b[0;32mcaught\u001b[0m on camera enjoying a biscuit during their match at st mirren . griffiths was caught in the act on the substitutes bench during the opening 10 minutes of the match . but he would n't have been impressed when griffiths was caught tucking into the biscuit on live tv . needless to say the scotland star remained firmly on the bench throughout the premiership leaders ' 2 - 0 win in paisley . the commentator on bt sport asked : ` are you allowed to do that on the bench ? -- i 'm not sure . part of a footballer 's healthy diet . ' griffiths has always something in reserve . next time , maybe it will be a caramel wafer . despite not starting for the bhoys , griffiths looks content as he tucks into the biscuit on good friday .\n",
      "===========================================================================================\n",
      "Summary 9: leigh \u001b[0;32mgriffiths\u001b[0m was \u001b[0;32mcaught\u001b[0m in the opening 10 minutes of the match at st mirren . his \u001b[0;33mmanager\u001b[0m ronnie deila \u001b[0;33msaid\u001b[0m on a strict diet regime for his players . scotland \u001b[0;33mstar\u001b[0m \u001b[0;33mis\u001b[0m on the bench for 2 - 0 win in paisley .\n",
      "Score: (33.333333333333336, 66.66666666666667, 0.0)\n",
      "Avg copy length: 3.7777777777777777\n",
      "===========================================================================================\n",
      "===========================================================================================\n",
      "===========================================================================================\n",
      "Src 10: warning : graphic content . footage was released along with other key pieces of evidence . video played in court shows truck pulling up to driveway of burger stand . his pickup then backs up after a struggle and runs over sloan 's leg . the vehicle is then seen plowing over carter , killing him . other pieces of evidence included an hour - long interview with cle ` bone ' sloan , who survived being run over by the death row records co - founder . a number of images taken immediately after his arrest were also released . close - ups of his face were intended to show injuries he sustained after being punched by sloan . pictures of suge knight showing he had virtually no facial injuries after he was arrested for killing one man and seriously injuring another in his pickup truck have been released . the co - \u001b[0;32mfounder\u001b[0m of death row records was \u001b[0;32mpunched\u001b[0m a \u001b[0;32mnumber\u001b[0m of times during the deadly confrontation , but close - \u001b[0;32mups\u001b[0m \u001b[0;32mtaken\u001b[0m by \u001b[0;32mdetectives\u001b[0m \u001b[0;32mshow\u001b[0m \u001b[0;32mhe\u001b[0m only \u001b[0;32mhad\u001b[0m a slight black \u001b[0;32meye\u001b[0m . the images were released along with a number of key pieces of evidence as the court was shown footage of the deadly incident in compton on january 18 for the first time . superior court judge ronald coen reviewed the items before \u001b[0;32mdetermining\u001b[0m \u001b[0;32mknight\u001b[0m , 49 , should \u001b[0;33mstand\u001b[0m \u001b[0;33mtrial\u001b[0m on murder , attempted murder and hit - and - run charges . scroll down for video . a photo of suge knight just after his arrest was released in court along with footage of him plowing into two men in his pickup truck in january . another photo of the 49-year - old after he was detained was released by the court . \u001b[0;32mknight\u001b[0m has \u001b[0;32mpleaded\u001b[0m not guilty to \u001b[0;32mkilling\u001b[0m terry \u001b[0;32mcarter\u001b[0m and \u001b[0;32mtrying\u001b[0m to \u001b[0;32mkill\u001b[0m cle ` bone ' \u001b[0;32msloan\u001b[0m . the close ups were intended to show the injuries he sustained from being punched in the face during the confrontation . superior court judge ronald coen ruled thursday that there was enough evidence for knight , 49 , to \u001b[0;33mstand\u001b[0m \u001b[0;33mtrial\u001b[0m on charges he killed terry carter and attempted to kill sloan during a parking lot confrontation . the images show . the video shows knight 's pickup truck pulling up to the driveway of the burger stand and cle ` bone ' sloan approaching the driver 's side window . sloan then approaches the driver 's side window and punches the 49-year - old in response to a flurry of insults . knight 's pickup is seen backing up , throwing sloan to the ground before the truck drives over his legs and then plows over terry carter - who died as a result . among the other key pieces of evidence shown to the court were images of knight taken immediately after his arrest . an hour - long interview with sloan , who survived , describing what happened was also released . coen ruled thursday that there was enough evidence for knight , 49 , to \u001b[0;33mstand\u001b[0m \u001b[0;33mtrial\u001b[0m on charges he killed terry carter and attempted to kill\n",
      "===========================================================================================\n",
      "Summary 10: the co - \u001b[0;32mfounder\u001b[0m of death row records was \u001b[0;32mpunched\u001b[0m a \u001b[0;32mnumber\u001b[0m of times during the deadly confrontation , but close - \u001b[0;32mups\u001b[0m \u001b[0;32mtaken\u001b[0m by \u001b[0;32mdetectives\u001b[0m \u001b[0;32mshow\u001b[0m \u001b[0;32mhe\u001b[0m only \u001b[0;32mhad\u001b[0m a slight black \u001b[0;32meye\u001b[0m . the \u001b[0;33mitems\u001b[0m before \u001b[0;32mdetermining\u001b[0m \u001b[0;32mknight\u001b[0m , 49 , should \u001b[0;33mstand\u001b[0m \u001b[0;33mtrial\u001b[0m on murder , attempted murder and hit - and - run charges . \u001b[0;32mknight\u001b[0m has \u001b[0;32mpleaded\u001b[0m not guilty to \u001b[0;32mkilling\u001b[0m terry \u001b[0;32mcarter\u001b[0m and \u001b[0;32mtrying\u001b[0m to \u001b[0;32mkill\u001b[0m cle ` bone ' \u001b[0;32msloan\u001b[0m on january 18 for the first time .\n",
      "Score: (88.88888888888889, 11.11111111111111, 0.0)\n",
      "Avg copy length: 19.75\n",
      "===========================================================================================\n",
      "===========================================================================================\n",
      "===========================================================================================\n",
      "Src 11: body of woman believed to \u001b[0;33mbe\u001b[0m celilia powell was discovered at her home . her son david powell , 73 , has been charged with the 95-year - old 's murder . police called to the scene in stoke - on - trent on thursday at about 8 pm . a 73-year - old man is to appear in court today charged with the murder of his 95-year - old mother at her home . \u001b[0;32mpolice\u001b[0m \u001b[0;32marrested\u001b[0m david \u001b[0;32mpowell\u001b[0m after the pensioner 's \u001b[0;32mbody\u001b[0m was \u001b[0;32mdiscovered\u001b[0m at her home in doncaster lane , penkhull , stoke - on - trent on thursday night . although the \u001b[0;32mbody\u001b[0m has not yet been formally \u001b[0;32midentified\u001b[0m , \u001b[0;33mshe\u001b[0m is \u001b[0;33munderstood\u001b[0m to \u001b[0;33mbe\u001b[0m his \u001b[0;32mmother\u001b[0m \u001b[0;32mcelilia\u001b[0m \u001b[0;32mpowell\u001b[0m . police arrested david powell after the pensioner 's body was discovered at her home in doncaster lane , penkhull , stoke - on - trent . according to the independent , mr powell was arrested after \u001b[0;32mdetectives\u001b[0m were \u001b[0;32mcalled\u001b[0m to his home on thursday . detective inspector andy maxfield from staffordshire police said : ` at this stage of the investigation we are not looking for anyone else in connection with this incident . ' police were called to the scene at around 8 pm on thursday . mr powell , of longton road , barlaston , staffordshire , is due to appear before magistrates at newcastle - under - lyme today . he said officers were due to have finished forensic examinations by late last night with a home office post - mortem taking place today . mr powell , of longton road , barlaston , staffordshire , is due to appear before magistrates at newcastle - under - lyme today . family members affected by the death are being supported by a police family liaison officer . sorry we are not currently accepting comments on this article .\n",
      "===========================================================================================\n",
      "Summary 11: the pensioner 's \u001b[0;32mbody\u001b[0m was \u001b[0;32mdiscovered\u001b[0m at her home in doncaster lane , penkhull , stoke - on - trent on thursday night . the \u001b[0;32mbody\u001b[0m has not yet been formally \u001b[0;32midentified\u001b[0m , \u001b[0;33mshe\u001b[0m is \u001b[0;33munderstood\u001b[0m to \u001b[0;33mbe\u001b[0m his \u001b[0;32mmother\u001b[0m \u001b[0;32mcelilia\u001b[0m \u001b[0;32mpowell\u001b[0m . david \u001b[0;32mpowell\u001b[0m was \u001b[0;32marrested\u001b[0m after \u001b[0;32mdetectives\u001b[0m were \u001b[0;32mcalled\u001b[0m to his home on thursday .\n",
      "Score: (83.33333333333333, 16.666666666666668, 0.0)\n",
      "Avg copy length: 13.25\n",
      "===========================================================================================\n",
      "===========================================================================================\n"
     ]
    },
    {
     "name": "stdout",
     "output_type": "stream",
     "text": [
      "===========================================================================================\n",
      "Src 12: louis van gaal has led manchester united into a great run of form of late . after their surge up the table , united have their sights on next year 's title . edwin van der sar says van gaal can win trophies after united 's drought . former manchester united goalkeeper edwin van der \u001b[0;32msar\u001b[0m \u001b[0;32mis\u001b[0m convinced louis van gaal will bring the glory days back to old trafford . united head to chelsea on saturday in top form , having \u001b[0;33mwon\u001b[0m six successive \u001b[0;33mmatches\u001b[0m . victory at stamford bridge would put united within five points of the blues , but the fact that the leaders have one game in hand means they are big favourites to lift the barclays premier league trophy next month . edwin van der sar is convinced louis van gaal will bring the glory days to manchester united . van gaal 's united head to chelsea on saturday in top form , having \u001b[0;33mwon\u001b[0m six successive \u001b[0;33mmatches\u001b[0m . van der sar admits the title is probably beyond united 's grasp this season , but when asked whether the red devils could challenge for the championship next year , the former goalkeeper said : ` with a little bit of luck , they could have done that this season but for chelsea winning a lot of those games with late goals - but let 's hope so . ` believing in the philosophy of louis , at the start of the new season , i think he can bring the club back to the place where it belongs . ' united boss van gaal revealed this week that he started planning in january to make acquisitions in the summer transfer window . van gaal revealed this week that he started planning in january for players he wanted to bring in this summer . van der sar admits the title is probably beyond united 's grasp but thinks they can win trophies , like he did . mats hummels , nathaniel clyne and kevin strootman - amongst others - are on the dutchman 's radar . van der sar , \u001b[0;33mwho\u001b[0m \u001b[0;33mwon\u001b[0m four \u001b[0;33mtitles\u001b[0m at united , believes the club 's revival will gather pace if a couple of new signings are added in the window . ` it 's been a good turnaround for the club and , if they can hold on to that third place , it 's a great position to then maybe strengthen in a couple of areas of the team , ' van der sar told united 's website . van gaal is looking to strengthen in the summer with united already\n",
      "===========================================================================================\n",
      "Summary 12: manchester united head to chelsea on saturday in top form . louis van gaal 's \u001b[0;33mside\u001b[0m have \u001b[0;33mwon\u001b[0m six successive \u001b[0;33mmatches\u001b[0m this season . edwin van der \u001b[0;32msar\u001b[0m \u001b[0;32mis\u001b[0m keen in january for players in january .\n",
      "Score: (50.0, 50.0, 0.0)\n",
      "Avg copy length: 3.1\n",
      "===========================================================================================\n",
      "===========================================================================================\n",
      "===========================================================================================\n",
      "Src 13: clarkson has not spoken publicly about sacking since news broke in march . he today gave ` heartfelt thanks ' to fans , saying he would ` miss being there ' rippon , 70 , keen to return to show and wants woman in presenting line - up . meanwhile , bosses are reportedly trying to cling onto james may and richard hammond . jeremy clarkson has finally spoken out about his high - profile sacking from top gear , admitting he will ` miss ' fronting the bbc2 show . clarkson , 54 , \u001b[0;32mwho\u001b[0m was \u001b[0;32mfired\u001b[0m in march after \u001b[0;33mattacking\u001b[0m a \u001b[0;33mproducer\u001b[0m during filming , has not publicly addressed his dismissal , apart from to say that ` everyone 's upset ' . but the presenter today gave his ` heartfelt thanks ' to those who sent their support in the aftermath of his sacking , saying he would ` miss being there ' . it came as ms rippon , 70 , \u001b[0;32mwho\u001b[0m first \u001b[0;32mpresented\u001b[0m the \u001b[0;32mshow\u001b[0m 38 years ago , said \u001b[0;32mshe\u001b[0m would \u001b[0;32mbe\u001b[0m keen to return to the motoring show if \u001b[0;32mshe\u001b[0m were \u001b[0;32minvited\u001b[0m back . scroll down for video . jeremy clarkson today revealed he would ` miss ' fronting top gear , as it emerged that former presenter angela rippon would be keen to return to the motoring show . ms \u001b[0;32mrippon\u001b[0m , 70 , who first presented the show 38 years ago , \u001b[0;32msaid\u001b[0m \u001b[0;32mit\u001b[0m would \u001b[0;32mbe\u001b[0m ` great ' if she were invited back to front top gear . writing in the sun , clarkson said : ` heartfelt thanks to all those who have written to say how much they will miss me on top gear . it 's not as much , however , as i 'll miss being there . ' clarkson was dropped by the bbc after an internal investigation found he had launched an ` unprovoked ' 30-second physical attack on producer oisin tymon because he was offered a plate of cold cuts instead of steak and chips . the presenter was found to have split the producer 's lip and verbally abused him . following weeks of speculation over the star 's future , lord hall , the director - general of the corporation , publicly announced that the bbc would not be renewing clarkson 's contract . he said clarkson had ` crossed the line ' and that ` there can not be one rule for one and one rule for another ' . now , with the future of the show still up in the air , former newsreader ms rippon said it would be ` great ' if she was invited back . clarkson , who was dropped by the bbc after launching an\n",
      "===========================================================================================\n",
      "Summary 13: \u001b[0;32mclarkson\u001b[0m , 54 , was \u001b[0;32mfired\u001b[0m in march after \u001b[0;33mattacking\u001b[0m producer oisin \u001b[0;33mtymon\u001b[0m . ms \u001b[0;32mrippon\u001b[0m \u001b[0;32msaid\u001b[0m \u001b[0;32mit\u001b[0m would \u001b[0;32mbe\u001b[0m ` great ' if \u001b[0;32mshe\u001b[0m were \u001b[0;32minvited\u001b[0m back to front top gear . ms \u001b[0;32mrippon\u001b[0m , 70 , first \u001b[0;32mpresented\u001b[0m the \u001b[0;32mshow\u001b[0m 38 years ago , said \u001b[0;32mshe\u001b[0m would \u001b[0;32mbe\u001b[0m keen to return to the motoring show .\n",
      "Score: (85.71428571428571, 14.285714285714286, 0.0)\n",
      "Avg copy length: 8.777777777777779\n",
      "===========================================================================================\n",
      "===========================================================================================\n",
      "===========================================================================================\n",
      "Src 14: cordula schacht is representing the case against random house germany . her own father hjalmar schacht was hitler 's minister of economics . dispute over historian peter longerich 's book goebbels released in 2010 . paying money would be ` immoral ' , rainer dresen of random house said . the \u001b[0;32mfamily\u001b[0m of adolf hitler 's minister of propaganda joseph goebbels , pictured in september 1934 , is \u001b[0;32msuing\u001b[0m a \u001b[0;32mpublisher\u001b[0m for royalties over a biography \u001b[0;32mthat\u001b[0m \u001b[0;32mused\u001b[0m \u001b[0;32mextracts\u001b[0m from his diaries . the family of adolf hitler 's minister of propaganda is suing a publisher for royalties over a biography that used extracts from his diaries . cordula schacht - whose own father hjalmar schacht was hitler 's minister of economics - is representing joseph goebbels ' estate in the case against random house germany and its imprint sidler . the \u001b[0;32mdispute\u001b[0m \u001b[0;32mcomes\u001b[0m after peter longerich , a leading authority on the holocaust and nazi germany , drew on the diaries for a biography called goebbels , \u001b[0;32mwhich\u001b[0m was \u001b[0;32mpublished\u001b[0m in germany in 2010 . now the english \u001b[0;32medition\u001b[0m of the biography , which includes the same entries , \u001b[0;32mis\u001b[0m due to be published by penguin random house uk and its imprint the bodley head on may 7 . rainer dresen , general counsel of random house germany , believes this case carries an important principal and that paying such money would be immoral . ` we are convinced that no money should go to a war criminal , ' he said . ` this war criminal did n't really commit acts by his hands , but by his words . ` these words prolonged the war ... and should not bring any money ... to his heirs . ' mr dresen was astonished when schacht first demanded money after contacting the publisher as a representative of goebbels ' heirs . ' i did not want to believe that anyone can claim royalties for goebbels ' words , ' he added . scroll down for video . last september the district court of munich ordered the publisher to disclose its earnings . it appealed on legal , copyright and moral grounds , and the case is due to be heard in munich on april 23 . mr dresen has suggested to schacht in court that royalties could be paid if she were to donate them subsequently to a holocaust charity . cordula schacht , pictured with her father and hitler 's economist hjalmar schacht , is representing goebbels ' estate in the case against random house germany and its imprint sidler over peter longerich 's book\n",
      "===========================================================================================\n",
      "Summary 14: the \u001b[0;32mfamily\u001b[0m of adolf hitler 's minister of propaganda joseph goebbels is \u001b[0;32msuing\u001b[0m a \u001b[0;32mpublisher\u001b[0m for royalties over a biography \u001b[0;32mthat\u001b[0m \u001b[0;32mused\u001b[0m \u001b[0;32mextracts\u001b[0m from his diaries . the \u001b[0;32mdispute\u001b[0m \u001b[0;32mcomes\u001b[0m after peter longerich , a leading authority on the holocaust and nazi germany , drew on the diaries for a biography called goebbels , \u001b[0;32mwhich\u001b[0m was \u001b[0;32mpublished\u001b[0m in germany in 2010 . now the english \u001b[0;32medition\u001b[0m of the biography \u001b[0;32mis\u001b[0m due to be published by penguin random house uk .\n",
      "Score: (100.0, 0.0, 0.0)\n",
      "Avg copy length: 16.2\n",
      "===========================================================================================\n",
      "===========================================================================================\n"
     ]
    },
    {
     "name": "stdout",
     "output_type": "stream",
     "text": [
      "===========================================================================================\n",
      "Src 15: he made the statement before in march . o'malley is low in the polls with democrats , but he has \u001b[0;33mbeen\u001b[0m flirting with a presidential run . des moines , iowa martin o'malley told reporters in iowa on friday that inevitability -- a term bandied about regarding democratic presidential frontrunner hillary clinton -- is not unbreakable . ` ` i 've seen it before , '' the former governor of maryland and possible presidential contender said . ` ` history is full of examples where the inevitable frontrunner was inevitable right up until she was no longer or he was no longer inevitable . ' ' clinton was considered inevitable to win the nomination in 2008 but ended up losing to barack obama . o'malley had previously dropped the inevitability comment in a television interview last month . the former governor , who capped off his two - day trip to the first - in - the - nation caucus state with a speech to the polk county democrats in des moines , said that although \u001b[0;32mclinton\u001b[0m \u001b[0;32mis\u001b[0m an ` ` eminently qualified candidate , '' the democratic party is full of ` ` good leaders . ' ' ` ` history is full of examples where people who are not very well known nationally can be very well known once they are willing to make their case to the people of iowa , '' o'malley said . in some polls , he has scored in the low single digits in the state . in a march cnn / orc poll of national democrats , only 1 % picked o'malley . in a january poll by bloomberg politics and the des moines register , o'malley was also at 1 % among iowa democrats . \u001b[0;32mclinton\u001b[0m , who leads most polls by upwards of 40 points , is \u001b[0;32mplanning\u001b[0m to \u001b[0;32mlaunch\u001b[0m her presidential \u001b[0;32mcandidacy\u001b[0m on sunday through a video message on social media , a person close to her campaign - in - waiting told cnn on friday . while he would n't say much about clinton , when asked about her candidacy , o'malley said , ` ` if leaders believe that they have the experience and the framework to move our country forward , they should run . and they should engage with voters and our country would be the better for it . ' ' o'malley , like other democrats , appears to refrain from directly attacking clinton . although last month on abc , he said that the presidency is ` ` not some crown to be passed between two families , '' he has not focused on her . he has , however ,\n",
      "===========================================================================================\n",
      "Summary 15: former \u001b[0;33mgovernor\u001b[0m of maryland \u001b[0;33msays\u001b[0m \u001b[0;32mclinton\u001b[0m \u001b[0;32mis\u001b[0m an ` ` good leaders ' ' candidate . \u001b[0;32mclinton\u001b[0m \u001b[0;32mis\u001b[0m the democratic presidential governor to \u001b[0;32mlaunch\u001b[0m presidential \u001b[0;32mcandidacy\u001b[0m . \u001b[0;33mclinton\u001b[0m has \u001b[0;33mbeen\u001b[0m at least twice since 2008 .\n",
      "Score: (60.0, 40.0, 0.0)\n",
      "Avg copy length: 1.9166666666666667\n",
      "===========================================================================================\n",
      "===========================================================================================\n",
      "===========================================================================================\n",
      "Src 16: khim hang is the youngest designer to show an australian fashion week . the 22-year - old 's collection \u001b[0;32mhan\u001b[0m \u001b[0;32mis\u001b[0m a nod to his cambodian heritage . khim said his parent 's \u001b[0;33mescape\u001b[0m from the khmer rouge \u001b[0;33minfluenced\u001b[0m \u001b[0;33mhim\u001b[0m . is paying workers in his cambodian factory double the minimum wage . the youngest designer to ever show at mercedes - benz fashion week australia is also committed to \u001b[0;32mimproving\u001b[0m working \u001b[0;32mconditions\u001b[0m in cambodia , where his heritage lies . khim hang , 22 , displayed his bold collection han with brooding models donning stocking caps and attire that could \u001b[0;33mbe\u001b[0m likened to that of war soldiers . and that 's exactly where he takes his inspiration from , citing his parents ' escape from the khmer rouge as the key reason for his commitment to looking after workers in his family 's home country , and ethically producing his products . scroll down for video . hot right now : khim hang is \u001b[0;33mthought\u001b[0m to \u001b[0;33mbe\u001b[0m the youngest designer to show at mercedes - benz fashion week australia at just 22 years of age . making a splash : the brisbane - based \u001b[0;33mdesigner\u001b[0m is heavily \u001b[0;33minfluenced\u001b[0m by his cambodian \u001b[0;33mheritage\u001b[0m and committed to ethical production and looking after his factor workers . ` i 've been really inspired by my culture and my heritage , ' hang , who is based in brisbane , told sbs backstage . ` i 've been doing a lot of research about cambodia in the 1960s ... and for me it 's a reinterpretation of what this culture once was , and what it is now , ' he added . hang has also spoken about his hesitance to visit cambodia after the horror his parents went through trying to flee pol pot , leader of the khmer rouge . ` i 've recently been doing a lot of travel back to where my family 's from in cambodia and i just recently opened up a factory over there , ' he told news corp ahead of his show . ` i 've been really inspired by my culture and my heritage , ' the brisbane - based designer said . the han collection , which adopted its own punk - look , showed a strong oriental influence . hang collaborated with fashion blogger margaret zhang for the runway show . ` we 've got about 15 staff at the moment , we pay double the minimum wage and we also provide childcare facilities for our staff 's children , ' the designer revealed . he also spoke to the publication about trying to improve working\n",
      "===========================================================================================\n",
      "Summary 16: khim \u001b[0;33mhang\u001b[0m is \u001b[0;33mthought\u001b[0m to \u001b[0;33mbe\u001b[0m the youngest designer to show at mercedes - benz fashion week australia at just 22 years of age . the brisbane - based \u001b[0;33mdesigner\u001b[0m is heavily \u001b[0;33minfluenced\u001b[0m by his parents ' \u001b[0;33mescape\u001b[0m from the khmer rouge . \u001b[0;32mhe\u001b[0m \u001b[0;32mis\u001b[0m also committed to \u001b[0;32mimproving\u001b[0m working \u001b[0;32mconditions\u001b[0m in cambodia .\n",
      "Score: (50.0, 50.0, 0.0)\n",
      "Avg copy length: 7.125\n",
      "===========================================================================================\n",
      "===========================================================================================\n",
      "===========================================================================================\n",
      "Src 17: olaparib is the first cancer drug to target inherited genetic mutations . up to \u001b[0;32m30\u001b[0m per cent of men with advanced prostate cancer \u001b[0;32mhave\u001b[0m \u001b[0;32mtumours\u001b[0m with genetic defects - and they responded well to olaparib . drug prolongs time a sufferer can live without disease getting worse . men with advanced prostate cancer could benefit from a pioneering drug originally meant for women . clinical \u001b[0;33mtrials\u001b[0m \u001b[0;33mshow\u001b[0m that \u001b[0;33molaparib\u001b[0m can \u001b[0;33mdelay\u001b[0m the \u001b[0;33mmoment\u001b[0m when the \u001b[0;32mdisease\u001b[0m \u001b[0;32mgets\u001b[0m dangerously out of control . the \u001b[0;32mdrug\u001b[0m already \u001b[0;32mworks\u001b[0m for women with cancer \u001b[0;32mfuelled\u001b[0m by brca gene \u001b[0;32mmutations\u001b[0m , the defect \u001b[0;32mthat\u001b[0m \u001b[0;32mled\u001b[0m to actress angelina jolie \u001b[0;32mhaving\u001b[0m her \u001b[0;32movaries\u001b[0m \u001b[0;32mremoved\u001b[0m . new ` exciting ' new research suggests the drug , already used to treat women with breast cancer , could also help men with genetic faults within their prostate cancer tumours . up to 30 per cent of men with advanced prostate cancer have tumours \u001b[0;32mthat\u001b[0m \u001b[0;32mhave\u001b[0m dna \u001b[0;32mdefects\u001b[0m and these respond particularly well to olaparib . the london trial of olaparib , which is owned by astrazeneca , was led by researchers at the institute of cancer research and the royal marsden hospital . they found 16 out of 49 men with advanced prostate cancer responded to the drug , also known as lynparza . it stopped prostate cancer growth , generating lower tumour cell counts in the blood and improved responses in medical scans . the drug - called olaparib - can extend the length of time that a prostate cancer patient lives with the disease without it getting worse , according to new clinical trials . olaparib is the first cancer drug to target inherited genetic mutations . it is one of the first of a new class of drugs called parp inhibitors . parp inhibitors work by blocking the cancer cell 's ability to repair damage . cancer cells that have a mutation in a brca gene rely completely on the parp protein to fix the damage . parp inhibitor drugs suppress this protein and can stop brca mutated cells from growing so they eventually die . side effects from traditional anti - cancer treatments are reduced because only cancer cells with genetic defects are targeted . most of the men who had detectable dna repair mutations had disease control lasting much longer than expected . this suggests the men most likely to benefit from the drug could be identified by testing to look for mutations . olaparib became the first of a new class of drugs called parp inhibitors to be granted approval last month for use in ovarian cancer by the european commission and the us food and drug administration . the\n",
      "===========================================================================================\n",
      "Summary 17: clinical \u001b[0;33mtrials\u001b[0m \u001b[0;33mshow\u001b[0m \u001b[0;33molaparib\u001b[0m can \u001b[0;33mdelay\u001b[0m the \u001b[0;33mmoment\u001b[0m when the \u001b[0;32mdisease\u001b[0m \u001b[0;32mgets\u001b[0m dangerously out of control . the \u001b[0;32mdrug\u001b[0m already \u001b[0;32mworks\u001b[0m for women with cancer \u001b[0;32mfuelled\u001b[0m by brca gene \u001b[0;32mmutations\u001b[0m , the defect \u001b[0;32mthat\u001b[0m \u001b[0;32mled\u001b[0m to angelina jolie \u001b[0;32mhaving\u001b[0m her \u001b[0;32movaries\u001b[0m \u001b[0;32mremoved\u001b[0m . up to \u001b[0;32m30\u001b[0m per cent of men with advanced prostate cancer \u001b[0;32mhave\u001b[0m \u001b[0;32mtumours\u001b[0m \u001b[0;32mthat\u001b[0m \u001b[0;32mhave\u001b[0m dna \u001b[0;32mdefects\u001b[0m .\n",
      "Score: (77.77777777777777, 22.22222222222222, 0.0)\n",
      "Avg copy length: 12.4\n",
      "===========================================================================================\n",
      "===========================================================================================\n"
     ]
    },
    {
     "name": "stdout",
     "output_type": "stream",
     "text": [
      "===========================================================================================\n",
      "Src 18: calbuco volcano in southern chile - which has been dormant for 40 years - erupted without warning on wednesday . a second terrifying eruption yesterday has now forced over 4,000 to flee in aftermath of the ` apocalypse - like ' event . footage of the eruption has revealed a strange pair of white lights floating perilously close to the ash cloud . incredible footage has emerged of a mysterious pair of white lights seen hovering perilously close to to the chilean volcano eruption . volcano \u001b[0;32mcalbuco\u001b[0m , which has laid dormant for more than 40 years , suddenly \u001b[0;32merupted\u001b[0m on wednesday causing a thick \u001b[0;32mplume\u001b[0m of ash to \u001b[0;32mcloud\u001b[0m the \u001b[0;32msky\u001b[0m while \u001b[0;32mthousands\u001b[0m of people living in its shadow were \u001b[0;32mforced\u001b[0m to \u001b[0;32mflee\u001b[0m the ` apocalypse - like ' \u001b[0;32mevent\u001b[0m . \u001b[0;32mhundreds\u001b[0m \u001b[0;32mfilmed\u001b[0m the \u001b[0;32meruption\u001b[0m , near the southern port city of puerto montt , chile , and its deadly ash cloud which caused all nearby \u001b[0;32mflights\u001b[0m to be \u001b[0;32mgrounded\u001b[0m for safety . but one amateur \u001b[0;32mcameraman\u001b[0m \u001b[0;32mwas\u001b[0m surprised to see what appeared to be white lights close to the enormous plume of ash and smoke rising from the mouth of the volcano . scroll down for video . mysterious white lights have been spotted hovering near chile 's erupting calbuco volcano on wednesday . a pair of strange glowing white lights were filmed floating perilously close to the smoke and gas clouds from the eruption . the pictures have since gone viral with internet user suggesting the lights were either police helicopters , an optical illusion or an alien aircraft . the footage shows the unexplained pair of lights floating dangerous close to erupting volcano before disappearing . tens of thousands of people have speculated on what the ufo could be , suggesting everything from police or emergence services helicopters , to a kind of optical illusion or even an alien craft . one youtube user , perkoff , believed it was time travelers . he wrote : ` most ufos are not aliens like a lot of people think . they are in fact time machines from the future . the reason you see so many ufos at historic events is because people from the future want to come back in time and witness history . a lot of these ufos are filled with students and are just going on a futuristic version of a field trip . ' bud ekins wrote : ` it wants to be filmed ! drones and planes do n't disappear like that . ' others argues it was something a little more mundane . one youtube user wrote : ` for me , chances are it 's a drone . ' while francisco javier segurasaid : ` it 's a airplane , come on ! up\n",
      "===========================================================================================\n",
      "Summary 18: volcano \u001b[0;32mcalbuco\u001b[0m \u001b[0;32merupted\u001b[0m on wednesday causing a thick \u001b[0;32mplume\u001b[0m of ash to \u001b[0;32mcloud\u001b[0m the \u001b[0;32msky\u001b[0m while \u001b[0;32mthousands\u001b[0m of people living in its shadow were \u001b[0;32mforced\u001b[0m to \u001b[0;32mflee\u001b[0m the ` apocalypse - like ' \u001b[0;32mevent\u001b[0m . \u001b[0;32mhundreds\u001b[0m \u001b[0;32mfilmed\u001b[0m the \u001b[0;32meruption\u001b[0m , near the southern port city of puerto montt , chile , and its deadly ash cloud caused all nearby \u001b[0;32mflights\u001b[0m to be \u001b[0;32mgrounded\u001b[0m for safety . one amateur \u001b[0;32mcameraman\u001b[0m \u001b[0;32mwas\u001b[0m surprised to be white lights close to the smoke and gas clouds from the eruption .\n",
      "Score: (100.0, 0.0, 0.0)\n",
      "Avg copy length: 12.857142857142858\n",
      "===========================================================================================\n",
      "===========================================================================================\n",
      "===========================================================================================\n",
      "Src 19: ana \u001b[0;32melizondo\u001b[0m was \u001b[0;32mkidnapped\u001b[0m in 2012 as \u001b[0;32mshe\u001b[0m was \u001b[0;32mleaving\u001b[0m a night \u001b[0;32mclass\u001b[0m at the university of texas , \u001b[0;32mpan\u001b[0m \u001b[0;32mamerican\u001b[0m . captors transported her through cars and \u001b[0;32mtried\u001b[0m to \u001b[0;32mcross\u001b[0m mexican \u001b[0;32mborder\u001b[0m . she was released unharmed the following day by one of the kidnappers . she believes she stayed safe by being friendly and joking with kidnappers . her experience will be featured on a crime documentary show tuesday . a woman who was kidnapped , held for ransom and driven to an area near the mexican border has opened up about her traumatic experience . ana elizondo made headlines in 2012 after she was kidnapped from a parking lot when she was leaving a night class at the university of texas , pan american . the psychology graduate student , 27 , was blindfolded and transported through several cars as her \u001b[0;32mabductors\u001b[0m \u001b[0;32mmade\u001b[0m a failed \u001b[0;32mattempt\u001b[0m to cross the mexican border . ana elizondo made headlines in 2012 after she was kidnapped from a parking lot as she was leaving a class at university of texas , pan american . she was released unharmed the following day after one of the kidnappers introduced her to his mother who helped her escape to another location . she escaped the hands of her captors the following day unharmed and said she tried to keep in good spirits for much of the time she was kidnapped . miguel angel cruz navarro was reportedly the ringleader of the kidnapping . \u001b[0;33mhe\u001b[0m was \u001b[0;33msentenced\u001b[0m to 34 years in prison in 2014 . on tuesday she will open up about her experiences on the popular true crime documentary show house of horrors : kidnapped on investigation discovery . elizondo has said in prior interviews that she was determined to look strong throughout the kidnapping , according to the panamerican online . she said in 2013 : ' which one of these guys is going to rape me ? all these thoughts were going through my head . ' i was very kind to them . i cracked jokes with them to get out of the situation mentally . ` they saw me as a good person and i think that 's why i was n't physically harmed or raped or anything like that . ' an investigation revealed that elizondo was targeted by the kidnappers because her father was a well - known wealthy business man in the area , according to the inquisitr . the men demanded a $ 160,000 ransom when they first called elizondo 's father . she was told by the kidnappers that her father lived a secret life and sold alcohol and cigarettes to the mexican drug cartel . but eventually , one of the kidnappers introduced elizondo to his mother , who helped her escape to another\n",
      "===========================================================================================\n",
      "Summary 19: ana \u001b[0;32melizondo\u001b[0m was \u001b[0;32mleaving\u001b[0m a night \u001b[0;32mclass\u001b[0m at the university of texas , \u001b[0;32mpan\u001b[0m \u001b[0;32mamerican\u001b[0m . \u001b[0;32mshe\u001b[0m was \u001b[0;32mkidnapped\u001b[0m and transported through several cars as her \u001b[0;32mabductors\u001b[0m \u001b[0;32mmade\u001b[0m a failed \u001b[0;32mattempt\u001b[0m to \u001b[0;32mcross\u001b[0m the mexican \u001b[0;32mborder\u001b[0m . \u001b[0;33mshe\u001b[0m was \u001b[0;33msentenced\u001b[0m to 34 years in prison in 2014 .\n",
      "Score: (83.33333333333333, 16.666666666666668, 0.0)\n",
      "Avg copy length: 7.625\n",
      "===========================================================================================\n",
      "===========================================================================================\n",
      "===========================================================================================\n",
      "Src 20: dean obeidallah : apple 's new emoji lineup is diverse in race , ethnicity and sexual orientation . it 's just like america , but what took apple so long ? obeidallah asks . he says change may rankle conservatives who discriminate against people because of their sexual orientation . the new \u001b[0;33memojis\u001b[0m \u001b[0;33mare\u001b[0m here ! on thursday , \u001b[0;32mapple\u001b[0m \u001b[0;32mreleased\u001b[0m a new \u001b[0;32mversion\u001b[0m of its mobile operating system \u001b[0;32mthat\u001b[0m \u001b[0;32mincludes\u001b[0m more \u001b[0;32mdiversity\u001b[0m than ever when it comes to the race , ethnicity and sexual orientation of its emojis -- those cute little \u001b[0;32mimages\u001b[0m that users can insert into text messages or emails when words alone just wo n't cut it . the reaction to this new lineup is , as should be expected with almost anything new in today 's hypersensitive climate , a range of cheers and jeers . why is any of this important , you may ask ? for many , these \u001b[0;33mimages\u001b[0m \u001b[0;33mare\u001b[0m far more than tiny clip art for texting . rather they \u001b[0;33mare\u001b[0m seen as recognition that their own ethnicity , sexual orientation , race or even hair color is part of mainstream america -- despite what others might say . this matters in a digital age where \u001b[0;32mtexting\u001b[0m \u001b[0;32mis\u001b[0m how most \u001b[0;32mpeople\u001b[0m \u001b[0;32mcommunicate\u001b[0m and represent themselves dozens -- if not hundreds -- of times every day . think receiving a text of an image of a person smiling . or more accurately , think of a white face smiling because up until thursday 's update , all the emojis had pale skin . but that has all changed . now there 's a range of emoji skin tones to pick from , including yellow , brown and black . i 'm sure few people will be upset with this development . but how about in december ? why ? now that will be able to choose the skin tones for each human emoji , and that will also include ... santa claus . that shrieking sound you may have heard was from fox news ' megyn kelly , who famously stated in 2013 that santa claus is absolutely , definitely and without a doubt a white guy . in fact , thanks to apple , we may even see brown santa emojis this december . 's . there is more . apple has now given us gay and lesbian couple emojis , kissing with a heart over their heads . this inclusiveness was cheered by at least one gay news service on twitter . it 's not yet clear if a\n",
      "===========================================================================================\n",
      "Summary 20: \u001b[0;32mapple\u001b[0m \u001b[0;32mreleased\u001b[0m a new \u001b[0;32mversion\u001b[0m of its mobile operating system \u001b[0;32mthat\u001b[0m \u001b[0;32mincludes\u001b[0m more \u001b[0;32mdiversity\u001b[0m than ever . \u001b[0;33methnicity\u001b[0m and sexual orientation of its emojis \u001b[0;33mare\u001b[0m also more than clip art for texting . \u001b[0;32mtexting\u001b[0m \u001b[0;32mis\u001b[0m how most \u001b[0;32mpeople\u001b[0m \u001b[0;32mcommunicate\u001b[0m .\n",
      "Score: (80.0, 20.0, 0.0)\n",
      "Avg copy length: 4.555555555555555\n",
      "===========================================================================================\n",
      "===========================================================================================\n"
     ]
    },
    {
     "name": "stdout",
     "output_type": "stream",
     "text": [
      "===========================================================================================\n",
      "Src 21: two \u001b[0;33mmen\u001b[0m were \u001b[0;33mcaught\u001b[0m on a familiar route leading into the middle east . the pair are believed to be still detained in turkey for foreseeable future . officials could not confirm if and when they would be returned to australia . it comes day after australia and turkey sign anti - terrorism treaty . the new deal will also cover criminal activity such as drug trafficking . counterterrorism agencies have arrested two suspected australian terrorists in turkey on thursday after \u001b[0;33mthey\u001b[0m were \u001b[0;33mcaught\u001b[0m \u001b[0;33mtrying\u001b[0m to \u001b[0;33msneak\u001b[0m into syria to join the islamic state . the daily telegraph reports that the \u001b[0;33mtwo\u001b[0m were \u001b[0;33mfound\u001b[0m \u001b[0;33mtrying\u001b[0m to \u001b[0;33muse\u001b[0m what has become a familiar potential route taken by australian jihadists going to the middle east . \u001b[0;32mit\u001b[0m \u001b[0;32mhappened\u001b[0m a day after \u001b[0;32mturkey\u001b[0m \u001b[0;32magreed\u001b[0m to a new extradition treaty and an intelligence - sharing agreement with australia . australian officials confirmed the arrest of the two men . two \u001b[0;33mmen\u001b[0m were \u001b[0;33mcaught\u001b[0m on a familiar route leading into the middle east from turkey . it 's claimed they were on their way to join with the islamic state . the new \u001b[0;32magreement\u001b[0m was also \u001b[0;32minitiated\u001b[0m to \u001b[0;32mclose\u001b[0m the turkish \u001b[0;32mborder\u001b[0m to radicalised australians and have \u001b[0;32mthem\u001b[0m \u001b[0;32msent\u001b[0m back to australia to \u001b[0;32mface\u001b[0m possible jail \u001b[0;32mterms\u001b[0m under new foreign fighter legislation . two men are believed to be still detained in turkey . officials could not confirm if and when they would be returned to australia . the new extradition treaty and an intelligence - sharing agreement was struck on wednesday during a meeting between prime minister tony abbott and turkish prime minister ahmet davutoglu in the turkish capital ankara . the men were arrested in turkey by counterterrorism agencies after being \u001b[0;33mcaught\u001b[0m \u001b[0;33mtrying\u001b[0m to \u001b[0;33msneak\u001b[0m into syria to join terror groups such as islamic state . the extradition treaty specifically covers the detention and extradition of australian foreign fighters . it would also cover criminal activity such as drug trafficking . currently there are now an estimated 100 in syria and iraq , the majority of these make their way to the middle east through turkey . australia has also agreed to expand its intelligence sharing with turkish counterterrorism agencies . to counter the islamic state , a new extradition treaty and an intelligence - sharing agreement deal was struck on wednesday between australia and turkey . ` the important thing is to ensure that if australians are tempted to go overseas and do the wrong thing we stop them -- and that is happening , ' mr abbott said . ` if people seek to return to australia we want them arrested , prosecuted and jailed . ' mr davutoglu said : ` if australia wants anyone detained or deported then we are ready to take those steps . ' prime minister tony abbott said the\n",
      "===========================================================================================\n",
      "Summary 21: two suspected australian \u001b[0;33mterrorists\u001b[0m in turkey were \u001b[0;33mcaught\u001b[0m \u001b[0;33mtrying\u001b[0m to join the islamic state . \u001b[0;32mit\u001b[0m \u001b[0;32mhappened\u001b[0m a day after \u001b[0;32mturkey\u001b[0m \u001b[0;32magreed\u001b[0m to a new extradition treaty and an intelligence - sharing agreement with australia . the new \u001b[0;32magreement\u001b[0m was also \u001b[0;32minitiated\u001b[0m to \u001b[0;32mclose\u001b[0m the turkish \u001b[0;32mborder\u001b[0m to radicalised australians and have \u001b[0;32mthem\u001b[0m \u001b[0;32msent\u001b[0m back to australia to \u001b[0;32mface\u001b[0m possible jail \u001b[0;32mterms\u001b[0m under new foreign fighter legislation .\n",
      "Score: (83.33333333333333, 16.666666666666668, 0.0)\n",
      "Avg copy length: 12.166666666666666\n",
      "===========================================================================================\n",
      "===========================================================================================\n",
      "===========================================================================================\n",
      "Src 22: this is the third part of our major good health series on dementia . \u001b[0;32mwe\u001b[0m \u001b[0;32mlook\u001b[0m at ways to \u001b[0;32mhelp\u001b[0m \u001b[0;32mminimise\u001b[0m the \u001b[0;32mimpact\u001b[0m of memory problems . for example , \u001b[0;33mwe\u001b[0m \u001b[0;33mneed\u001b[0m just as much \u001b[0;33msleep\u001b[0m as \u001b[0;32mwe\u001b[0m \u001b[0;32mget\u001b[0m older . the problem is that older people find it harder to reach a deeper sleep . when the short - term memory starts to go , it can make it hard for someone to recall what they have already done that day , such as whether they 've had breakfast , or showered , or spoken to someone . it can help to keep a diary - a record of what has been done through the day . writing also helps encourage the cognitive processes , which can help slow down future decline . create a memory hub - that is , a central place in the home , perhaps the dining room table or a desk , where important notes , car keys , house keys and drugs \u001b[0;33mthat\u001b[0m \u001b[0;33mneed\u001b[0m to be \u001b[0;33mtaken\u001b[0m are kept . put things here that you want to be able to find quickly . get into the habit of having everything in this one place rather than having things scattered about the home . get a whiteboard or blackboard - that can be used to record a timetable of what needs to be done each day that week . things that get done can be ticked off . \u001b[0;32mit\u001b[0m \u001b[0;32mis\u001b[0m another way to show what has been done , but also shows what remains to be done . label doors , drawers , cupboards and cabinets to avoid confusion about what goes where . have a list of the numbers of key people by the phone - your gp and other care professionals , carers , family and reliable friends . have a daily newspaper delivered - it is a simple way of keeping aware of what is happening in the world and is a useful reminder of that day 's date . when showering or having a bath , establish a routine as a reminder of whether your hair has been washed . for example , move the conditioner and shampoo from one side of the bath to the other once you 've used them . eat regular meals . while other body cells can take fuel from elsewhere , the brain relies on a good supply of glucose from the blood . that 's why skipping a meal can affect reasoning , cognition and memory . in the early stages of dementia , begin a reminiscence book to act as a reminder of key events in that person 's life and who people are . it 's a nice thing for the person with dementia and a loved one to do together . include pictures and snippets of information and date and label every entry . no matter how young or old we are , most of us experience the odd memory lapse . perhaps it will be forgetting where you put the car keys , or what you went to get from upstairs . thankfully , these moments pass . but for those with dementia there is no such relief . imagine what it 's like being unable to recall what you 'd done an hour before . or not remembering how to navigate around your own house or the names of your nearest and dearest . or knowing what everyday things are for , such as a fridge . today , in the third part of our major good health series on dementia , we look at ways to help minimise the impact of these memory problems , to \u001b[0;32mprolong\u001b[0m \u001b[0;32mindependence\u001b[0m and \u001b[0;32mhelp\u001b[0m \u001b[0;32mthose\u001b[0m with dementia live as full a life as possible . scroll down for video . older people find it harder to reach a deeper sleep - but \u001b[0;33mthey\u001b[0m still \u001b[0;33mneed\u001b[0m just as \u001b[0;33mmuch\u001b[0m . things that sabotage your memory . getting overtired : if the brain is tired , \u001b[0;32mit\u001b[0m \u001b[0;32maffects\u001b[0m the \u001b[0;32mmemory\u001b[0m even for those without dementia . recently , scientists have found out why . during deep sleep , brain waves move memories from the hippocampus - the area of the brain that is involved in short - term memory - to the prefrontal cortex at the front of the brain , where long - term memories are stored . if this does n't happen , short - term memories get overwritten with new ones and the consequence is forgetfulness , according to researchers at the university of california , berkeley . it is a common misconception that \u001b[0;33mwe\u001b[0m \u001b[0;33mneed\u001b[0m less \u001b[0;33msleep\u001b[0m as we get older - in fact \u001b[0;33mwe\u001b[0m \u001b[0;33mneed\u001b[0m just as \u001b[0;33mmuch\u001b[0m , the problem is that older people find it harder to reach a deeper sleep . getting a good night 's sleep can be especially difficult for those with dementia , especially those with alzheimer 's disease who may experience changes to their sleeping patterns . quite why this happens is not understood , but it may be related to the impact the condition has on the brain . but there are steps that can make it easier . one of the most important measures is to avoid catnapping during the day\n",
      "===========================================================================================\n",
      "Summary 22: in the third part of our major good health series on dementia , \u001b[0;32mwe\u001b[0m \u001b[0;32mlook\u001b[0m at ways to \u001b[0;32mhelp\u001b[0m \u001b[0;32mminimise\u001b[0m the \u001b[0;32mimpact\u001b[0m of these memory problems , to \u001b[0;32mprolong\u001b[0m \u001b[0;32mindependence\u001b[0m and \u001b[0;32mhelp\u001b[0m \u001b[0;32mthose\u001b[0m with dementia live as full a life . if the \u001b[0;32mbrain\u001b[0m \u001b[0;32mis\u001b[0m tired , \u001b[0;32mit\u001b[0m \u001b[0;32maffects\u001b[0m the \u001b[0;32mmemory\u001b[0m even for those without dementia . older \u001b[0;33mpeople\u001b[0m \u001b[0;33mneed\u001b[0m less \u001b[0;33msleep\u001b[0m as \u001b[0;32mwe\u001b[0m \u001b[0;32mget\u001b[0m older .\n",
      "Score: (87.5, 12.5, 0.0)\n",
      "Avg copy length: 11.5\n",
      "===========================================================================================\n",
      "===========================================================================================\n"
     ]
    },
    {
     "name": "stdout",
     "output_type": "stream",
     "text": [
      "===========================================================================================\n",
      "Src 23: \u001b[0;32mpritesh\u001b[0m and mansi gandhi had been \u001b[0;32mtrying\u001b[0m for a baby for ten years . they suffered five miscarriages and lost a baby after six months . pritesh 's sister hiral agreed to act as a surrogate to the couple . three weeks ago they welcomed their son krish . a couple who suffered five devastating miscarriages and lost their six - month - old son because \u001b[0;33mhe\u001b[0m was \u001b[0;33mborn\u001b[0m prematurely finally have the family they dreamed of after his sister acted as a surrogate . pritesh , 36 and mansi gandhi , 35 , started trying for a baby ten years ago but repeatedly lost the baby due to a medical condition . \u001b[0;32mmansi\u001b[0m , from feltham , london , did \u001b[0;32mmanage\u001b[0m to \u001b[0;32mbecome\u001b[0m pregnant and \u001b[0;32mgave\u001b[0m \u001b[0;32mbirth\u001b[0m in 2007 but \u001b[0;32mkhushi\u001b[0m \u001b[0;32mwas\u001b[0m so premature \u001b[0;32mhe\u001b[0m \u001b[0;32mdied\u001b[0m after a six - month fight for life . however , pritesh 's \u001b[0;32msister\u001b[0m hiral shah , 32 , \u001b[0;32mstepped\u001b[0m in and \u001b[0;32moffered\u001b[0m to \u001b[0;32mcarry\u001b[0m the couple 's \u001b[0;32mbaby\u001b[0m - and after ivf treatment , gave birth to krish three weeks ago after a 20-minute labour . mansi did manage to eventually become pregnant and gave birth in 2007 but the boy , khushi , was so premature he died after a six - month fight for life , so they krish was a miracle for them . pritesh and manis , a supermarket worker , met through family friends in 2001 and the smitten pair got married a year later , and began trying for a baby after three years . manis fell pregnant in 2007 , but \u001b[0;33mkhushi\u001b[0m was \u001b[0;33mborn\u001b[0m with brain haemorrhages and died aged six months in may 2007 and after spending most of his short life in hospital . doctors investigated and mansi was diagnosed with cervical insufficiency - premature dilation of the cervix due to the weight of a growing baby . the couple continued to attempt to have a baby , but suffered miscarriages at 18 weeks in 2008 , 14 weeks in 2009 , 18 weeks in 2010 . doctors put stitches in mansi 's cervix in a bid to keep it closed , but tragically they also lost a further two babies in the early weeks of pregnancy in 2012 and 2013 . mansi said : ' i gave up on any hopes of having a child of my own after losing six babies . ` it 's heartbreaking to lose even one baby whereas in my case i lost six babies and that made me feel awful about myself . ' i started hating myself and always thought why ca n't i have a baby when everyone around me is blessed with one . ' pritesh and mansi gandhi finally\n",
      "===========================================================================================\n",
      "Summary 23: \u001b[0;32mpritesh\u001b[0m , 36 and mansi gandhi , 35 , \u001b[0;32mstarted\u001b[0m \u001b[0;32mtrying\u001b[0m for a baby ten years ago but \u001b[0;32mkhushi\u001b[0m \u001b[0;32mwas\u001b[0m so premature \u001b[0;32mhe\u001b[0m \u001b[0;32mdied\u001b[0m after a six - month fight for life . mansi 's \u001b[0;32msister\u001b[0m hiral shah , 32 , \u001b[0;32mstepped\u001b[0m in and \u001b[0;32moffered\u001b[0m to \u001b[0;32mcarry\u001b[0m the couple 's \u001b[0;32mbaby\u001b[0m - and after ivf treatment , \u001b[0;32mgave\u001b[0m \u001b[0;32mbirth\u001b[0m to krish three weeks ago . \u001b[0;32mmansi\u001b[0m did \u001b[0;32mmanage\u001b[0m to \u001b[0;32mbecome\u001b[0m pregnant and \u001b[0;32mgave\u001b[0m \u001b[0;32mbirth\u001b[0m in 2007 , but the \u001b[0;33mboy\u001b[0m was \u001b[0;33mborn\u001b[0m with brain haemorrhages .\n",
      "Score: (88.88888888888889, 11.11111111111111, 0.0)\n",
      "Avg copy length: 8.9\n",
      "===========================================================================================\n",
      "===========================================================================================\n",
      "===========================================================================================\n",
      "Src 24: the animation was the work of joe penna and jeff schweikart . penna , aka mysteryguitarman , was assisted by three people . \u001b[0;33mproject\u001b[0m \u001b[0;33mtook\u001b[0m the \u001b[0;33mgroup\u001b[0m between three - to - four days to complete . video features a robot finding love of his life on another planet . the rubik 's cube is notorious for having boggled many a bright mind since its official inception in 1980 . but for youtube user joe penna , who is based in los angeles , and animator jeff schweikart it is merely a toy in which to create amazing pieces of artwork . penna , who is best known online as mysteryguitarman , solved a whopping 1,296 mini rubik 's cubes 961 times to create a short animated video . youtube user joe \u001b[0;33mpenna\u001b[0m and animator jeff schweikart \u001b[0;33mtook\u001b[0m between three - to - four \u001b[0;33mdays\u001b[0m to \u001b[0;32mcomplete\u001b[0m the \u001b[0;32mproject\u001b[0m . with the help of schweikart , the \u001b[0;32mpair\u001b[0m \u001b[0;32mproduce\u001b[0m arguably the greatest love \u001b[0;32mstory\u001b[0m ever told between a pair of robots with a lot of rubik 's cubes . the short narrative features a robot entering a workshop , \u001b[0;32mbuilding\u001b[0m a \u001b[0;32mspaceship\u001b[0m and heading off into the atmosphere . after encountering some trouble , he crash lands on a planet and is first greeted by a dog before he meets the love of his life . the robot love story was created by joe penna solving a whopping 1,296 rubik 's cubes a total of 961 times . the animated \u001b[0;32mvideo\u001b[0m \u001b[0;32mfeatures\u001b[0m a robot \u001b[0;32mbuilding\u001b[0m a spaceship , heading off into the atmosphere and finding love . the pair then abandon the destroyed spaceship and zoom off into atmosphere with the help of the female robot , who acts as a robotic - style jet pack . throughout the clip , which lasts one minute and 25 seconds , a squeaky backing track plays that would not sound out of place in a game of pac - man . according to penna , who commented on his video 's original upload , the elaborate \u001b[0;33mproject\u001b[0m \u001b[0;33mtook\u001b[0m a \u001b[0;33mtotal\u001b[0m of four people between three and four weeks to complete . a squeaky backing track that would n't sound out of place in a game of pac - man is featured throughout the one minute and 25 second clip . joe penna , who is better known on his youtube channel as mysteryguitarman , was assisted by three other people during the project . and the 27-year - old also had some advice for someone who asked him for some tips . he wrote : ` practice . a lot . make the kind of stuff you want to watch . it really is one of those things where the more\n",
      "===========================================================================================\n",
      "Summary 24: youtube user joe \u001b[0;33mpenna\u001b[0m , based in los angeles , and animator jeff \u001b[0;33mschweikart\u001b[0m \u001b[0;33mtook\u001b[0m between three - to - four \u001b[0;33mdays\u001b[0m to \u001b[0;32mcomplete\u001b[0m the \u001b[0;32mproject\u001b[0m . with the help of schweikart , the \u001b[0;32mpair\u001b[0m \u001b[0;32mproduce\u001b[0m the greatest love \u001b[0;32mstory\u001b[0m ever told between a pair of robots with a lot of rubik 's cubes . the animated \u001b[0;32mvideo\u001b[0m \u001b[0;32mfeatures\u001b[0m a robot \u001b[0;32mbuilding\u001b[0m a \u001b[0;32mspaceship\u001b[0m and zoom off into atmosphere .\n",
      "Score: (80.0, 20.0, 0.0)\n",
      "Avg copy length: 9.625\n",
      "===========================================================================================\n",
      "===========================================================================================\n",
      "===========================================================================================\n",
      "Src 25: ex - soldier riki hughes , 31 , was the club secretary at tidworth town fc . he set up fake bank account in the name of the team 's landlord and siphoned off at least # 17,000 . jailed for 16 months after spending the cash on camping gear and holiday . jailed : riki hughes stole # 17,000 from the football club where he volunteered as club secretary . a veteran of the iraq war stole thousands of pounds from a children 's football club and spent the money on a stag trip to las vegas . lance corporal riki \u001b[0;32mhughes\u001b[0m has been \u001b[0;32mjailed\u001b[0m for 16 months after he plundered the accounts of tidworth town football club , where he volunteered as club secretary . \u001b[0;32mhe\u001b[0m \u001b[0;32mclaimed\u001b[0m to be \u001b[0;32mmaking\u001b[0m rent \u001b[0;32mpayments\u001b[0m to the club 's landlord - even though the team was actually getting its property for free . \u001b[0;32mhughes\u001b[0m , 31 , \u001b[0;32mspent\u001b[0m the \u001b[0;32mmoney\u001b[0m on himself , including camping equipment and a stag holiday to las vegas , salisbury crown court heard . the former soldier , who served two tours in iraq , pleaded guilty to stealing # 17,000 , but the club claimed that the total theft amounted to # 26,000 . he made out 70 bogus rent payments to an account he 'd set up in the name of landlord aspire defence , which was not charging the club rent . judge andrew barnett said : ` for two years you milked the funds of that football club , set up principally for those involved in the services and their children . ` you in effect treated a great deal of club money as your own . it was spent on personal luxuries . that 's a disgraceful thing to do . ' hughes , from andover in hampshire , has been working as a telecoms engineer since he left the army . holiday : hughes spent the money on a stag holiday in las vegas , pictured , and camping equipment . the court heard that he had an exemplary career in the military , and no prior criminal record . relatives burst into tears when hughes was sentenced to 16 months in prison . speaking after the case , tidworth town chairman said the wiltshire club was happy that justice had been done . ` it 's a relief we can put this to bed now , ' he said .\n",
      "===========================================================================================\n",
      "Summary 25: lance corporal riki \u001b[0;32mhughes\u001b[0m has been \u001b[0;32mjailed\u001b[0m for 16 months . \u001b[0;32mhe\u001b[0m \u001b[0;32mclaimed\u001b[0m to be \u001b[0;32mmaking\u001b[0m rent \u001b[0;32mpayments\u001b[0m to the club 's landlord . \u001b[0;32mhughes\u001b[0m , 31 , \u001b[0;32mspent\u001b[0m the \u001b[0;32mmoney\u001b[0m on a stag trip to las vegas .\n",
      "Score: (100.0, 0.0, 0.0)\n",
      "Avg copy length: 10.5\n",
      "===========================================================================================\n",
      "===========================================================================================\n"
     ]
    },
    {
     "name": "stdout",
     "output_type": "stream",
     "text": [
      "===========================================================================================\n",
      "Src 26: ashley dodds , 29 , left speechless when daughter told her what happened . the mother , from salford , had ordered ` mocktails ' for the girl and her friend . \u001b[0;33mwent\u001b[0m outside for a cigarette and was told ` mum , i 've had alcohol ' on return . manchester \u001b[0;32mrestaurant\u001b[0m \u001b[0;32mblamed\u001b[0m ms \u001b[0;32mdodds\u001b[0m for leaving children on their own . a restaurant which accidentally served an alcoholic drink to a 10-year - old girl has blamed the mix - up on her mother for \u001b[0;32mleaving\u001b[0m her \u001b[0;32mdaughter\u001b[0m on her own to \u001b[0;32mgo\u001b[0m out for a cigarette . ashley \u001b[0;32mdodds\u001b[0m , 29 , \u001b[0;32mvisited\u001b[0m the red hot world \u001b[0;32mbuffet\u001b[0m on deansgate , manchester , with her daughter , dennon , and her daughter 's friend . after ordering a non - alcoholic sweet kiss ` mocktail ' for the girls , ms dodds was disgusted when she heard that her daughter had actually been drinking an alcoholic version . the menu : ashley dodds , 29 , holds up the ` mocktails ' list she ordered drinks from for daughter dennon at the red hot world buffet in manchester . restaurant \u001b[0;32mstaff\u001b[0m accidentally \u001b[0;32mserved\u001b[0m the \u001b[0;32mgirl\u001b[0m a \u001b[0;32mdrink\u001b[0m with alcohol in it . restaurant \u001b[0;32mbosses\u001b[0m \u001b[0;32madmitted\u001b[0m to \u001b[0;32mmaking\u001b[0m the \u001b[0;32mmistake\u001b[0m but blamed the incident on ms dodds for leaving her daughter alone while \u001b[0;33mshe\u001b[0m \u001b[0;33mwent\u001b[0m for a cigarette . ms dodds , from salford , said : ` it is unbelievable . they are so unprofessional . ` how dare they blame it on me . it makes me out to be a bad mother but they made the mistake . ' explaining what happened , she added : ' i ordered my daughter and her friend sweet kisses , and a bit later me and my friend decided to go for a cigarette . ' \u001b[0;33mi\u001b[0m \u001b[0;33mwent\u001b[0m to the counter to ask for two more sweet kisses to be taken over to them , then \u001b[0;33mwent\u001b[0m downstairs for a cigarette . when i came back up my daughter just blurted out saying ` ` mum , i 've had alcohol ' ' . ' dining out : inside the red hot world buffet in deansgate , manchester . the restaurant admitted to the mishap but blamed ms dodds for leaving her daughter and a friend unattended and going outside for a cigarette . ms dodds , who works at a nando 's restaurant , was horrified to learn that instead of sweet kisses , staff at the red hot world buffet had placed two sex on the beach cocktails in front of the girls while the adults were away from the table . she said : ' i took a big swig of the drink and thought , wow these have alcohol in them . i was baffled\n",
      "===========================================================================================\n",
      "Summary 26: ashley \u001b[0;32mdodds\u001b[0m , 29 , \u001b[0;32mvisited\u001b[0m the red hot world \u001b[0;32mbuffet\u001b[0m on deansgate , manchester . \u001b[0;32mstaff\u001b[0m accidentally \u001b[0;32mserved\u001b[0m the \u001b[0;32mgirl\u001b[0m a \u001b[0;32mdrink\u001b[0m with alcohol in it . restaurant \u001b[0;32mbosses\u001b[0m \u001b[0;32madmitted\u001b[0m to \u001b[0;32mmaking\u001b[0m the \u001b[0;32mmistake\u001b[0m but \u001b[0;32mblamed\u001b[0m ms \u001b[0;32mdodds\u001b[0m for \u001b[0;32mleaving\u001b[0m her \u001b[0;32mdaughter\u001b[0m alone while \u001b[0;33mshe\u001b[0m \u001b[0;33mwent\u001b[0m for a cigarette .\n",
      "Score: (85.71428571428571, 14.285714285714286, 0.0)\n",
      "Avg copy length: 12.4\n",
      "===========================================================================================\n",
      "===========================================================================================\n",
      "===========================================================================================\n",
      "Src 27: workers \u001b[0;33maged\u001b[0m 18 - 25 saw \u001b[0;32mwages\u001b[0m \u001b[0;32mrise\u001b[0m eight times faster than over 50s . in three months , 5.4 % of 18 - 25-year - olds changed jobs , 1.2 % \u001b[0;33maged\u001b[0m 50 - 64 . ons says young have ` willingness to move to higher - paying positions ' older workers are suffering dismal pay rises while those awarded to the youngest workers have gone up by nine times as much . the gap between wage rises for young and older staff has widened significantly during the past five years , amid claims the over-50s are being left behind , official figures reveal . critics said employers were cynically taking advantage of older workers who stay with the same company for longer by failing to train and promote them or give them decent annual pay rises . the \u001b[0;32munder-25s\u001b[0m \u001b[0;32msaw\u001b[0m their wages rise more than eight times faster than the over-50s , as they quickly climbed the rungs of the career ladder . last year , \u001b[0;32mworkers\u001b[0m \u001b[0;33maged\u001b[0m 18 to 24 \u001b[0;32mreceived\u001b[0m bumper 10.6 per cent pay \u001b[0;32mrises\u001b[0m , falling to 3.8 per cent for people \u001b[0;33maged\u001b[0m 25 to \u001b[0;33m34\u001b[0m and to 2 per cent for workers \u001b[0;33maged\u001b[0m 36 to 49 . for workers \u001b[0;33maged\u001b[0m 50 to 64 , pay rises plunge to a meagre 1.2 per cent , official figures show -- significantly below the uk average of 2.1 per cent . the office for national statistics revealed in its latest economic review that the \u001b[0;32munder-25s\u001b[0m \u001b[0;32mare\u001b[0m five times as likely to have moved jobs in the past three months than workers over-50 . but while younger workers often receive greater pay rises because they move jobs more frequently , official data shows that the gap is widening . in 2009 , britain 's youngest workers received pay rises three times greater than older workers , but this has now widened to nine times greater . in the last three months of 2014 , 5.4 per cent of 18 - 25-year - olds changed jobs , compared to only 1.2 per cent of 50 - 64-year - olds . experts said the growing gulf between the generations could signal a reluctance by employers to train and promote older members of staff . ros altmann , a whitehall adviser on older workers , said : ` younger people 's pay is rising faster than average and the rate of increase is accelerating . ` it could be because younger people are the most likely to receive training , with employers keen to focus on the newer workers and spending far less on training older workers . ` with the pace of change in technology and processes being so rapid nowadays , the need for ongoing training is\n",
      "===========================================================================================\n",
      "Summary 27: the \u001b[0;32munder-25s\u001b[0m \u001b[0;32msaw\u001b[0m their \u001b[0;32mwages\u001b[0m \u001b[0;32mrise\u001b[0m more than eight times faster than over-50s . last year \u001b[0;32mworkers\u001b[0m \u001b[0;33maged\u001b[0m 18 to \u001b[0;33m24\u001b[0m \u001b[0;32mreceived\u001b[0m bumper 10.6 per cent pay \u001b[0;32mrises\u001b[0m . \u001b[0;32munder-25s\u001b[0m \u001b[0;32mare\u001b[0m five times as likely to have moved jobs in the past three months than workers over-50 .\n",
      "Score: (80.0, 20.0, 0.0)\n",
      "Avg copy length: 8.333333333333334\n",
      "===========================================================================================\n",
      "===========================================================================================\n",
      "===========================================================================================\n",
      "Src 28: choosing the right punishment for a naughty child is a difficult business . some parents now resort to embarrassing their offspring to punish them . tactics include diy chores , embarrassing costumes and essay - writing . disciplining a child for doing something wrong is a tricky business . coming up with a punishment that will teach a son or daughter not to commit the crime again but is n't harsh enough to \u001b[0;33mscar\u001b[0m \u001b[0;33mthem\u001b[0m for life is tough . often , the best \u001b[0;32mschemes\u001b[0m \u001b[0;32mare\u001b[0m ones \u001b[0;33mthat\u001b[0m \u001b[0;33membarrass\u001b[0m a \u001b[0;33mchild\u001b[0m so that they are too mortified to consider falling foul of their parents again . choosing the right punishment for a naughty child is a difficult business . others that work very well include the mind - numbingly dull chores , which drag on for a lifetime . some cunning \u001b[0;31mparents\u001b[0m \u001b[0;31mtake\u001b[0m away their child 's favourite \u001b[0;31mpossession\u001b[0m , like a book or a teddy , while others resort to a lengthy lecture . one thing 's for sure , when most parents put their mind to disciplining their child , a trip to the naughty step starts to look like a weekend a way at butlins . reddit users have been comparing the most effective punishments their parents doled out when they were children and many of the schemes are both hilarious and genius . parents often struggle to find the balance between a punishment being effective and not too harsh . one reddit user 's \u001b[0;33mmother\u001b[0m \u001b[0;33mused\u001b[0m her son 's naughty \u001b[0;33mbehaviour\u001b[0m as a cheap means to improve her house . every time that he stepped out of line - she set him a diy task in her garden . douglerful said : ` my mom loves her garden , anytime i did anything to piss her off i had to add to her garden . when i told her i was failing english back in high school my punishment was to build her a pond - it took me a solid week of work to dig it out , line it , shape it , fill it and then plant everything around it . ` she told me after that , that she really hated the 30 year old cherry tree in the yard and if my grades did n't improve i 'd be removing it . ' it turns out quite a lot of parents use their back gardens to enact punishments onto their children - another adult reminisced about how they were put to task on the lawn with\n",
      "===========================================================================================\n",
      "Summary 28: one reddit user 's \u001b[0;33mmother\u001b[0m \u001b[0;33mused\u001b[0m her son 's \u001b[0;33mclothes\u001b[0m in her garden . the best \u001b[0;32mschemes\u001b[0m \u001b[0;32mare\u001b[0m \u001b[0;33mthat\u001b[0m \u001b[0;33membarrass\u001b[0m a \u001b[0;33mchild\u001b[0m or daughter not to \u001b[0;33mscar\u001b[0m the \u001b[0;33mcrime\u001b[0m again . many \u001b[0;31mparents\u001b[0m \u001b[0;31mtake\u001b[0m on their \u001b[0;31mparents\u001b[0m to \u001b[0;33mget\u001b[0m their \u001b[0;33mparents\u001b[0m again .\n",
      "Score: (20.0, 60.0, 20.0)\n",
      "Avg copy length: 2.75\n",
      "===========================================================================================\n",
      "===========================================================================================\n"
     ]
    },
    {
     "name": "stdout",
     "output_type": "stream",
     "text": [
      "===========================================================================================\n",
      "Src 29: slovenian - born aljaz bedene defeated belgium 's arthur de greef . bedene will face jiri vesely after beating arthur de greef in 70 minutes . the 25-year - old switched allegiance from slovenia to britain in march . british no 2 aljaz \u001b[0;33mbedene\u001b[0m has \u001b[0;33mbooked\u001b[0m a quarter - final \u001b[0;33mplace\u001b[0m at the grand prix hassan ii event in casablanca . the world no 99 , who switched allegiance from slovenia to britain last month , knocked out fellow qualifier arthur de greef , of belgium , 6 - 2 , 6 - 3 in just 70 minutes . london - based \u001b[0;32mbedene\u001b[0m , 25 , will now \u001b[0;32mface\u001b[0m third seed jiri \u001b[0;32mvesely\u001b[0m , who was given a far tougher test as he progressed to the last - eight . british number two aljaz bedene , pictured in june 2013 , defeated arthur de greef in just 70 minutes . bedene represents great britain after switching allegiance from slovenia in march . czech vesely claimed his first victory of the year on clay , but only after saving a set - point against former world top-10 player mikhail youzhny to progress 7 - 6 , 6 - 3 . top seed and defending champion guillermo garcia - lopez , though , suffered a surprise defeat , bowing out 6 - 3 , 6 - 3 against morocco 's world number 313 and wild card entry lamine ouahab . ouahab next faces spaniard daniel gimeno - traver , who held a 6 - 1 , 4 - 1 lead against seventh seed mikhail kukushkin , before he was forced to retire .\n",
      "===========================================================================================\n",
      "Summary 29: the \u001b[0;33mworld\u001b[0m no \u001b[0;33m99\u001b[0m \u001b[0;33mbooked\u001b[0m a quarter - final \u001b[0;33mplace\u001b[0m at grand prix hassan ii event in casablanca . london - based \u001b[0;32mbedene\u001b[0m will \u001b[0;32mface\u001b[0m third seed jiri \u001b[0;32mvesely\u001b[0m . british number two aljaz \u001b[0;33mbedene\u001b[0m \u001b[0;33mbeat\u001b[0m arthur de \u001b[0;33mgreef\u001b[0m in 70 minutes .\n",
      "Score: (33.333333333333336, 66.66666666666667, 0.0)\n",
      "Avg copy length: 4.375\n",
      "===========================================================================================\n",
      "===========================================================================================\n",
      "===========================================================================================\n",
      "Src 30: candice bergen 's competition for her dad 's affection was not with a sibling - it was with his iconic sidekick dummy charlie mccarthy . ` charlie had his own bedroom next to mine -- and his was bigger ' she and french director louis malle had been ` crazy in love ' her role on murphy brown made her a fortune . real estate developer second husband was suffocating and she reacted with tiny tantrums . she 's packed on 30 pound and says ` no carb is safe -- no fat either ' five time emmy - winning actress candice bergen , now 68 , confesses \u001b[0;32mshe\u001b[0m \u001b[0;32mwas\u001b[0m the highest paid actor in television for a lot of years after \u001b[0;32mplaying\u001b[0m the title \u001b[0;32mrole\u001b[0m in the hit cbs sitcom , murphy brown \u001b[0;32mthat\u001b[0m \u001b[0;32mran\u001b[0m for ten years starting in 1988 . ` the job security was incredible . and i never wanted it to end ; doing murphy brown was insanely fun ' . ` i have made a lot of money . most of this is the incomparable tv money . nothing like it ' . after the first year of the hit tv show , when she won the golden globe and emmy for best actress , her salary headed skyward for over ten years and she kept that fact a secret . financial secrets prevailed in her upbringing by her model / actress mother and her famous father , edgar bergen , best known for as ventriloquist who 's sidekick was dummy charlie mccarthy . scroll down for video . puppet envy : in her new memoir , candice \u001b[0;32mbergen\u001b[0m \u001b[0;32mwrites\u001b[0m that her \u001b[0;33mfather\u001b[0m \u001b[0;33mbelittled\u001b[0m her \u001b[0;33mlooks\u001b[0m and favored his dummy . she reveals that she would sit on one of her father 's knees at the breakfast table and charlie mccarthy sat on the other . ` a gentle squeeze on the back of my neck was my cue to open and shut my mouth so he could ventriloquize me . charlie and i would chatter together silently , while behind us dad would supply the snappy repartee for both of us ' success : candice starred in the long - running tv hit murphy brown , here with costar grant shaud . happy at last : candice bergen and husband marshall rose t the 2014 vanity fair oscar party . edgar spent more time with the dummy than his first - born child , candice . and when he died in 1978 , her penurious father left his only daughter out of his will - but not charlie . . charlie mccarthy was willed $ 10,000 with the proviso that the funds be managed , invested and reinvested to fund ventriloquist performances in the future . edgar wrote ` i make this provision for sentimental reasons which to me are vital due to the association with charlie mccarthy who has been my constant companion and who has taken on the character of a real\n",
      "===========================================================================================\n",
      "Summary 30: candice \u001b[0;32mbergen\u001b[0m \u001b[0;32mwas\u001b[0m the highest paid actor in television for a lot of years after \u001b[0;32mplaying\u001b[0m the title \u001b[0;32mrole\u001b[0m in the hit cbs sitcom , murphy brown \u001b[0;32mthat\u001b[0m \u001b[0;32mran\u001b[0m for ten years starting in 1988 . candice \u001b[0;32mbergen\u001b[0m \u001b[0;32mwrites\u001b[0m that her \u001b[0;33mfather\u001b[0m \u001b[0;33mbelittled\u001b[0m her \u001b[0;33mdummy\u001b[0m . after the first year of the hit tv show .\n",
      "Score: (80.0, 20.0, 0.0)\n",
      "Avg copy length: 9.5\n",
      "===========================================================================================\n",
      "===========================================================================================\n",
      "===========================================================================================\n",
      "Src 31: right sagittal stratum of brain is key to recognising sarcastic comments . neuroscientists at john hopkins medical school scanned the brains of 24 stroke patients and tested their ability to detect sarcasm in 40 sentences . the sagittal stratum is a bundle of white matter below the cerebral cortex . the findings may help treat stroke patients who struggle to detect sarcasm . sarcasm is often described as the lowest form of wit , but it seems you need the right kind of wits in the first place to be able to recognise it . neuroscientists have identified the area of the brain that is the key to picking up on when someone is being sarcastic . \u001b[0;33mthey\u001b[0m \u001b[0;33mfound\u001b[0m that people with damage to the right sagittal stratum - a bundle of white matter \u001b[0;32mthat\u001b[0m \u001b[0;32mlies\u001b[0m between the cerebral cortex and subcortical structures in the brain - are unable to detect sarcasm . stroke patients with damage in the sagittal stratum in the right hemisphere of the brain were far poorer at detecting sarcasm when listening to sentences , according to the new research . stroke \u001b[0;32msurvivors\u001b[0m often \u001b[0;32msuffer\u001b[0m \u001b[0;32mdamage\u001b[0m to this area of their brain and struggle to recognise when \u001b[0;32mfamily\u001b[0m and friends are \u001b[0;32mbeing\u001b[0m sarcastic . according to researchers at john hopkins medical school in baltimore , the level of damage to this area of the brain seems to directly affect a persons ability to detect sarcasm . used effectively , sarcasm can provide a devastating put down . but it turns out that it can also be a great motivator . employees who have to put up with a sarcastic colleague or boss are more creative than those who do n't , a \u001b[0;33mstudy\u001b[0m has \u001b[0;33mfound\u001b[0m . \u001b[0;32mresearchers\u001b[0m \u001b[0;32mclaim\u001b[0m that being exposed to sarcasm \u001b[0;32mrequired\u001b[0m more ` cognitive \u001b[0;32mcomplexity\u001b[0m ' , or the ability to \u001b[0;32msee\u001b[0m \u001b[0;32mthings\u001b[0m from more than one angle . the inherent humour in the comments also defused the tension that comes with anger . the study will surprise anybody whose boss relies on mocking his employees to get the best out of them . professor argye hillis , a neurologist at john hopkins medical school who oversaw the study , said : ` failure to recognize sarcasm can lead to important miscommunications . ` few previous studies have identified brain lesions associated with impaired recognition of sarcasm . ' percent damage to the sagittal stratum had the greatest weight and was the only independent predictor of sarcasm recognition . ' even for healthy people sarcasm can be hard to detect and some cultures use it far more than others . british comedy , for example , has a reputation for being notoriously sarcastic . some characters like blackadder ,\n",
      "===========================================================================================\n",
      "Summary 31: \u001b[0;33mresearchers\u001b[0m at john hopkins medical school in baltimore \u001b[0;33mfound\u001b[0m \u001b[0;33mpeople\u001b[0m with damage to the right sagittal stratum - a bundle of white matter \u001b[0;32mthat\u001b[0m \u001b[0;32mlies\u001b[0m between the cerebral cortex and subcortical structures in the brain . stroke \u001b[0;32msurvivors\u001b[0m often \u001b[0;32msuffer\u001b[0m \u001b[0;32mdamage\u001b[0m to this area of their brain and struggle to recognise when \u001b[0;32mfamily\u001b[0m and friends are \u001b[0;32mbeing\u001b[0m sarcastic . \u001b[0;32mresearchers\u001b[0m \u001b[0;32mclaim\u001b[0m that being exposed to sarcasm \u001b[0;32mrequired\u001b[0m more ` cognitive \u001b[0;32mcomplexity\u001b[0m ' and ability to \u001b[0;32msee\u001b[0m \u001b[0;32mthings\u001b[0m from more than one angle .\n",
      "Score: (85.71428571428571, 14.285714285714286, 0.0)\n",
      "Avg copy length: 12.0\n",
      "===========================================================================================\n",
      "===========================================================================================\n"
     ]
    },
    {
     "name": "stdout",
     "output_type": "stream",
     "text": [
      "===========================================================================================\n",
      "Src 32: major general james post iii was fired for saying that the retirement of the a-10 warthog amounted to ` treason ' the incident added fuel to a controversy over efforts to retire the low - flying , tank - killer plane highly regarded by ground troops . \u001b[0;33mpost\u001b[0m \u001b[0;33msaid\u001b[0m he told the group the air force did n't want to get rid of the plane but needed to because of budget constraints . fired : major general james post iii was fired on friday after making a treason comment . an air force major general has been formally reprimanded and removed from his job for telling a group of officers that talking to congress in a bid to block retirement of the a-10 warthog amounted to ` treason , ' the air \u001b[0;33mforce\u001b[0m \u001b[0;33msaid\u001b[0m on friday . an \u001b[0;33minvestigation\u001b[0m of remarks by major general james post iii , \u001b[0;32mwho\u001b[0m \u001b[0;32mwas\u001b[0m the vice commander of air combat command , \u001b[0;33mfound\u001b[0m that his words to some 300 airmen at nellis air force base on jan . 10 may \u001b[0;33mhave\u001b[0m had a ` chilling effect ' on some of them , convincing them not to speak with lawmakers . representative mac \u001b[0;33mthornberry\u001b[0m , chairman of the house of representatives armed services committee , \u001b[0;33msaid\u001b[0m the air force action against post was ` important and correct . ' ` members of congress must be able to receive unfiltered facts and opinions from service members ... , ' \u001b[0;33mhe\u001b[0m \u001b[0;33msaid\u001b[0m in a statement . ` attempts to prevent or restrict that communication can not be allowed . ' the incident added fuel to a controversy over efforts to retire the low - flying , tank - killer aircraft , which is highly regarded by ground troops for its ability to provide close air support . the plane has strong supporters among members of congress who \u001b[0;33mhave\u001b[0m so far successfully blocked efforts to retire it . air force \u001b[0;33mchief\u001b[0m of staff general mark welsh , himself a former a-10 pilot , has \u001b[0;33msaid\u001b[0m that given budget and personnel constraints , the air \u001b[0;32mforce\u001b[0m \u001b[0;32mneeds\u001b[0m to \u001b[0;32mretire\u001b[0m the \u001b[0;32mplane\u001b[0m to \u001b[0;32msave\u001b[0m \u001b[0;32mmoney\u001b[0m and \u001b[0;32mfree\u001b[0m up \u001b[0;32mpeople\u001b[0m to \u001b[0;32mlearn\u001b[0m to maintain the new f-35 joint strike fighter . post made his remarks while fielding questions the airmen . he was asked about the status of the a-10 and began to discuss budget constraints facing the department and the reason for the decision to retire the plane . a-10 retirement : the incident added fuel to a controversy over efforts to retire the a-10 , low - flying , tank - killer aircraft , which is highly regarded by ground troops for its ability to provide close air support . the inspector general 's investigation interviewed several witnesses who remembered post using the word ` treason ' to describe efforts to oppose the air force leadership 's decision to retire the\n",
      "===========================================================================================\n",
      "Summary 32: major general james \u001b[0;33mpost\u001b[0m \u001b[0;33miii\u001b[0m \u001b[0;33mfound\u001b[0m \u001b[0;33mthat\u001b[0m his words to 300 airmen at nellis air force base on jan . \u001b[0;33m10\u001b[0m may \u001b[0;33mhave\u001b[0m a ` chilling \u001b[0;33meffect\u001b[0m ' on some of them . air force chief of staff general mark \u001b[0;33mwelsh\u001b[0m \u001b[0;33msaid\u001b[0m the air \u001b[0;32mforce\u001b[0m \u001b[0;32mneeds\u001b[0m to \u001b[0;32mretire\u001b[0m the \u001b[0;32mplane\u001b[0m to \u001b[0;32msave\u001b[0m \u001b[0;32mmoney\u001b[0m and \u001b[0;32mfree\u001b[0m up \u001b[0;32mpeople\u001b[0m to \u001b[0;32mlearn\u001b[0m to maintain the new f-35 joint strike fighter . post \u001b[0;32miii\u001b[0m \u001b[0;32mwas\u001b[0m the vice commander of air combat command .\n",
      "Score: (57.142857142857146, 42.857142857142854, 0.0)\n",
      "Avg copy length: 8.3\n",
      "===========================================================================================\n",
      "===========================================================================================\n",
      "===========================================================================================\n",
      "Src 33: wayne rooney was handed the captain 's armband last summer . the manchester united skipper insists ` \u001b[0;33myou\u001b[0m \u001b[0;33mhave\u001b[0m to \u001b[0;33mdo\u001b[0m \u001b[0;33mit\u001b[0m your own way ' rooney insists team spirit is good but there are times he has to speak up . wayne rooney has revealed how he is developing his own style of captaincy to lead manchester united this season . \u001b[0;32mrooney\u001b[0m has \u001b[0;32mserved\u001b[0m under a number of big names for club and country during his career , but admits that he has had to learn to be his own man after louis van gaal handed him the armband last summer . it appears to \u001b[0;33mhave\u001b[0m paid off with rooney playing a key role in united 's resurgence under the dutchman . last weekend 's emphatic derby win over manchester city was their sixth premier league victory in a row as van gaal 's side head towards a top - four finish . captain wayne rooney celebrates marouane fellaini 's goal as manchester united beat rivals city on sunday . the united skipper has revealed he is captaining the team ` his own way ' and has to be his own person . \u001b[0;32mrooney\u001b[0m and paddy mcnair were \u001b[0;32minspired\u001b[0m to \u001b[0;32mgo\u001b[0m for a game of golf on wednesday following the masters . ` \u001b[0;33myou\u001b[0m \u001b[0;33mhave\u001b[0m to \u001b[0;33mdo\u001b[0m \u001b[0;33mit\u001b[0m your own way , ' said rooney . ` you can obviously look how people \u001b[0;33mhave\u001b[0m done it before you but \u001b[0;33mi\u001b[0m \u001b[0;33mhave\u001b[0m to \u001b[0;33mbe\u001b[0m my own person and do what i feel is the best way for me to captain the team . ` giggsy was n't captain here full - time in my time at united , but the things he 's done \u001b[0;33mhave\u001b[0m been a big help and still now . there were also leaders like roy keane , gary neville and david beckham . ` there was steven gerrard and john terry who were fantastic captains . but you ca n't say i want to be like him or i want to be like someone else . ' rooney was catained by midfielder roy keane during his early years at old trafford . the england skipper has also played alongside leaders steven gerrard and john terry for the national side . rooney does n't hesitate to tell his team - mates what he thinks , even though his dressing - room speeches tend to be off the cuff . he added : ` i did n't even write anything down for my wedding ! ` the team spirit in the dressing - room is fantastic , but there are though obviously times when \u001b[0;33myou\u001b[0m \u001b[0;33mhave\u001b[0m to \u001b[0;33mspeak\u001b[0m up . rooney insists the team spirit at man\n",
      "===========================================================================================\n",
      "Summary 33: wayne \u001b[0;32mrooney\u001b[0m has \u001b[0;32mserved\u001b[0m under big names for manchester united this season . \u001b[0;32mrooney\u001b[0m and paddy mcnair were \u001b[0;32minspired\u001b[0m to \u001b[0;32mgo\u001b[0m for a game of golf on wednesday . van gaal 's \u001b[0;33mside\u001b[0m \u001b[0;33mhave\u001b[0m sixth premier league \u001b[0;33mwin\u001b[0m over manchester city .\n",
      "Score: (66.66666666666667, 33.333333333333336, 0.0)\n",
      "Avg copy length: 4.090909090909091\n",
      "===========================================================================================\n",
      "===========================================================================================\n",
      "===========================================================================================\n",
      "Src 34: jonathan gottschall : millions to tune in to see mayweather - pacquiao fight , but this does n't show resurgence of declining sport of boxing . so why will so many watch?he says a \u001b[0;32mfight\u001b[0m \u001b[0;32mis\u001b[0m metaphor for the whole human condition , with everything noble and ugly on display . this weekend , millions of people are expected to tune in to watch two men beat each other up . why is this ? we 'll explore , but first let 's get something out of the way : the big \u001b[0;33mfight\u001b[0m between manny pacquiao and floyd mayweather \u001b[0;33mwo\u001b[0m n't ` ` \u001b[0;32msave\u001b[0m ' ' \u001b[0;32mboxing\u001b[0m , a sport that has fallen precipitously since its 20th century heyday . if anything , the so - called ` ` fight of the century ' ' just reinforces the sport 's problems , as two aging heroes collide in what might be the last nationally relevant fight for a very long time . there 's so much wrong with boxing 's business model , but all you really need to understand is this : most sports fans probably ca n't name a single active boxer after mayweather and pacquiao . some might know that the long - reigning heavyweight champ is a towering ukrainian with a boring jab - happy style , but most would n't come up with his name . boxing is n't fading away because we 've finally awoken to its brutality but from a combination of catastrophic mismanagement and competition from mixed martial arts -- a younger , more dynamic and better - managed competitor . the rocket rise of mma 's premier organization , the ultimate fighting championship , has matched boxing 's equally dramatic decline . in the course of just two decades , the ufc has grown from a freaky - violent carny sideshow into a mainstream sport . in fact , the fan base of the ufc now rivals that of the world 's most popular fighting sport : ice hockey . some aficionados spin elaborate defenses of the hundreds of fist fights that break out every year in nhl games , claiming they make the game safer by punishing dirty play . but that 's so weak . everyone knows why the nhl has n't cracked down on fighting hard enough to end it : fans love it way too much . as the hockey announcer don cherry once said , ` ` when legendary tough guy bob probert was fighting , did you ever see anyone get out of their seat and go get coffee . ' ' but why do we like to watch fights in the first place ? over the past 20 years , i 've\n",
      "===========================================================================================\n",
      "Summary 34: manny pacquiao and floyd \u001b[0;33mmayweather\u001b[0m \u001b[0;33mwo\u001b[0m n't ` ` \u001b[0;32msave\u001b[0m ' ' \u001b[0;32mboxing\u001b[0m . boxing 's ` ` \u001b[0;32mfight\u001b[0m of the century ' ' \u001b[0;32mis\u001b[0m one of the most sports fans . the rocket rise of mma 's fighting sport : ice hockey .\n",
      "Score: (66.66666666666667, 33.333333333333336, 0.0)\n",
      "Avg copy length: 4.125\n",
      "===========================================================================================\n",
      "===========================================================================================\n"
     ]
    },
    {
     "name": "stdout",
     "output_type": "stream",
     "text": [
      "===========================================================================================\n",
      "Src 35: italian alex \u001b[0;32mbellini\u001b[0m will \u001b[0;32mlive\u001b[0m atop an iceberg off the coast of north west greenland starting next year . he will stay in isolation inside a contained ball without opening the hatch for 12 months . the capsule will contain supplies and equipment for his survival , and workout equipment to keep him fit . its designed to survive harsh conditions - such as the iceberg flipping - and can also float in water . an explorer who plans to spend a year living inside a ball - shaped capsule on top of an iceberg \u001b[0;33mis\u001b[0m seeking funding for his daring project . italian alex \u001b[0;33mbellini\u001b[0m \u001b[0;33mis\u001b[0m to be \u001b[0;33msubjected\u001b[0m to the full force of the iceberg as it melts , cracks and even flips - while hopefully staying safe inside his small spherical cabin . the \u001b[0;33maim\u001b[0m of the cabin fever - inducing stunt \u001b[0;33mis\u001b[0m to \u001b[0;33mhighlight\u001b[0m how global \u001b[0;32mwarming\u001b[0m will \u001b[0;32mmelt\u001b[0m \u001b[0;32micebergs\u001b[0m around the world and cause sea \u001b[0;32mlevels\u001b[0m to \u001b[0;32mrise\u001b[0m . scroll down for video . italian alex bellini will live atop an iceberg in greenland starting next year . he will live inside a contained ball 's , with no means to escape for 12 months . the \u001b[0;32mcapsule\u001b[0m will \u001b[0;32mbe\u001b[0m 10 ft wide and could \u001b[0;32mfit\u001b[0m 10 \u001b[0;32mpeople\u001b[0m - but mr \u001b[0;32mbellini\u001b[0m will \u001b[0;32mremove\u001b[0m \u001b[0;32mall\u001b[0m of the seats apart from one , for himself . mr bellini , 36 , \u001b[0;33mis\u001b[0m seeking funding for his project , called adrift , which he hopes to begin in november 2016 . previous feats by the explorer include running more than 14,000 miles , rowing more than 21,000 miles and spending 560 days in isolation . he has rowed both the atlantic and pacific and insists he favours challenges where there \u001b[0;33mis\u001b[0m a perceived lack of control . the capsules , initially designed essentially as escape pods for areas at risk of tsunami , can hold from two to ten people and range in price from # 8,000 to # 13,500 . four are currently in use in japan , while two are in the us . mr bellini will use one at the upper scale , 10 ft wide - although he 'll remove all the seats except one for himself . inside he 'll have exercise equipment , such as a stationary bike , in addition to supplies for the year such as food and water . but his latest venture represents a whole new challenge as he will have to deal with intense isolation and undergo serious psychological tests as he copes with being alone for 12 months . perched on top of an iceberg in north west greenland , he will be alone and unable to leave\n",
      "===========================================================================================\n",
      "Summary 35: italian alex \u001b[0;32mbellini\u001b[0m will \u001b[0;32mlive\u001b[0m atop an iceberg in greenland next year . the cabin fever - inducing \u001b[0;33mstunt\u001b[0m \u001b[0;33mis\u001b[0m to \u001b[0;33mhighlight\u001b[0m how global \u001b[0;32mwarming\u001b[0m will \u001b[0;32mmelt\u001b[0m \u001b[0;32micebergs\u001b[0m around the world and cause sea \u001b[0;32mlevels\u001b[0m to \u001b[0;32mrise\u001b[0m . the \u001b[0;32mcapsule\u001b[0m will \u001b[0;32mbe\u001b[0m 10 ft wide and could \u001b[0;32mfit\u001b[0m 10 \u001b[0;32mpeople\u001b[0m - but mr \u001b[0;32mbellini\u001b[0m will \u001b[0;32mremove\u001b[0m \u001b[0;32mall\u001b[0m of the seats apart from one for himself .\n",
      "Score: (85.71428571428571, 14.285714285714286, 0.0)\n",
      "Avg copy length: 11.166666666666666\n",
      "===========================================================================================\n",
      "===========================================================================================\n",
      "===========================================================================================\n",
      "Src 36: denis \u001b[0;32msuarez\u001b[0m \u001b[0;32mscored\u001b[0m an 87th minute \u001b[0;32mwinner\u001b[0m to make it 2 - 1 to sevilla in the first - leg of the europa league quarter - final against zenit . khouma \u001b[0;33mbabacar\u001b[0m \u001b[0;33mscored\u001b[0m a late \u001b[0;33mequaliser\u001b[0m for fiorentina to secure a vital away goal against dynamo kiev . club brugge and dnipro played out a tense goalless draw . denis \u001b[0;33msuarez\u001b[0m \u001b[0;33mscored\u001b[0m a late \u001b[0;33mwinner\u001b[0m for sevilla as \u001b[0;32mthey\u001b[0m \u001b[0;32mcame\u001b[0m from behind to \u001b[0;32mtake\u001b[0m \u001b[0;32mcontrol\u001b[0m of the europa league quarter - final tie against zenit st petersburg 2 - 1 . winger aleksandr ryazantsev had given the visitors the lead in the first - half , scoring off his own rebound , before forward carlos bacca drew the home side level with a close - range header from a set - piece . suarez , on loan from from barcelona , then completed the comeback with a stunning volleyed effort from outside the box on 87 minutes . zenit st . petersburg midfielder javi garcia tussles for the ball with sevilla 's jose antonio reyes . sevilla forward kevin gameiro has a shot at goal as zenit defender luis neto jumps to block . zenit midfielder axel witsel sends a headed effort at the sevilla goal during the europa league tie . zenit defender ezequiel garay clears the ball ahead of sevilla 's vicente iborra on thursday night . meanwhile , in ukraine , \u001b[0;32mfiorentina\u001b[0m \u001b[0;32mrescued\u001b[0m a 1 - 1 \u001b[0;32mdraw\u001b[0m away to dynamo kiev , with khouma babacar 's stoppage - time leveler saving the italian team from a third straight defeat in all competitions . jeremain lens had given dynamo a first - half lead with a fine curling 20-yard shot into the far top corner as fiorentina 's players pulled back to defend their own penalty area . finally , in belgium , club brugge and dnipro ended in a goalless stalemate . that keeps brugge in contention for a first european semifinal since 1988 , when the competition was still known as the uefa cup . dynamo kiev 's yevhen khacheridi vies for the ball with fiorentina forward mario gomez . fiorentina winger mohamed salah dribbles forward with the ball during the match against zenit . dynamo kiev forward jeremain lens celebrates after scoring the opening goal against fiorentina . dynamo kiev 's danilo silva comes in with a strong challenge on fiorentina winger joaquin . club brugge forward obbi oulare jumps in an aerial duel with dnipro defender douglas . brugge 's jose izquierdo gives chase to dnipro 's yevhen konoplyanka\n",
      "===========================================================================================\n",
      "Summary 36: denis \u001b[0;32msuarez\u001b[0m \u001b[0;32mscored\u001b[0m a late \u001b[0;32mwinner\u001b[0m for sevilla as \u001b[0;32mthey\u001b[0m \u001b[0;32mcame\u001b[0m from behind to \u001b[0;32mtake\u001b[0m \u001b[0;32mcontrol\u001b[0m of the europa league quarter - final tie against zenit st petersburg 2 - 1 . winger aleksandr \u001b[0;33mryazantsev\u001b[0m \u001b[0;33mscored\u001b[0m off his own \u001b[0;33mgoal\u001b[0m on 87 minutes . \u001b[0;32mfiorentina\u001b[0m \u001b[0;32mrescued\u001b[0m a 1 - 1 \u001b[0;32mdraw\u001b[0m away to dynamo kiev on thursday .\n",
      "Score: (80.0, 20.0, 0.0)\n",
      "Avg copy length: 6.0\n",
      "===========================================================================================\n",
      "===========================================================================================\n",
      "===========================================================================================\n",
      "Src 37: samantha giufre , 19 , endured the horrific attack last september . was dragged behind a car and left in a gutter in casula , south - west sydney . ms \u001b[0;32mgiufre\u001b[0m \u001b[0;32mspent\u001b[0m \u001b[0;32mmonths\u001b[0m in hospital and now has permanent injuries . has lost vision in one eye , hearing in one ear , and smell in one nostril . one \u001b[0;32mman\u001b[0m has been \u001b[0;32mcharged\u001b[0m over the violent incident . \u001b[0;32mpolice\u001b[0m are still \u001b[0;32msearching\u001b[0m for others believed to be involved . a teenage girl who suffered horrific injuries after being dragged behind a car and left for dead in a gutter has broken her silence . on september 7 , 2014 , samantha giufre , 19 , spent months in hospital after being towed behind a vehicle along a suburban street in casula , south - west of sydney , before she was abandoned . so far one man has been charged in relation to the violent incident , but police are searching for others \u001b[0;32mthey\u001b[0m \u001b[0;32mbelieve\u001b[0m were involved . scroll down for video . samantha giufre , 19 , suffered multiple fractures to her skull and face , along with bleeding on her brain on september 7 , 2014 after being dragged along the street behind a car . cctv footage released by police shows the moment she was towed behind the car before being found in a gutter on myall road in casula , south west of sydney on september 7 . ' i just felt destroyed , not like myself , ' she told 9news , adding that one of the hardest things she 's had to come to terms with is how she now looks . ` i 'm blind in one eye now , i have limited vision in the other eye , i have hearing loss in one of my ears , one side of my nose i ca n't smell out of , ' ms giufre revealed . the young woman 's parents have been by her side since the horrible day , and say her life has been consumed by her recovery for the last six months . ` she 's continually at the doctors , having surgeries , her whole life is just consumed with what 's happened to her , ' ms giufre 's mother karen said . ms giufre told 9news her life has been ` destroyed ' by the violent attack which has left her with permanent disabilities . her parents karen and frank said their daughter 's life is now ` consumed ' by what happened . one of ms giufre 's alleged attackers , 18-year - old basher hawchar , was supposed to front court on wednesday but instead sent legal representation . ' i look at sam and i think that she 's been held prisoner , and someone 's thrown the key away\n",
      "===========================================================================================\n",
      "Summary 37: samantha \u001b[0;32mgiufre\u001b[0m , 19 , \u001b[0;32mspent\u001b[0m months in hospital after being towed behind a vehicle along a suburban street in casula , south west of sydney on september 7 . so far one \u001b[0;32mman\u001b[0m has been \u001b[0;32mcharged\u001b[0m in relation to the violent incident . \u001b[0;32mpolice\u001b[0m are \u001b[0;32msearching\u001b[0m for others \u001b[0;32mthey\u001b[0m \u001b[0;32mbelieve\u001b[0m were involved .\n",
      "Score: (100.0, 0.0, 0.0)\n",
      "Avg copy length: 11.6\n",
      "===========================================================================================\n",
      "===========================================================================================\n"
     ]
    },
    {
     "name": "stdout",
     "output_type": "stream",
     "text": [
      "===========================================================================================\n",
      "Src 38: tony abbott insists tough line on migrants is the only way to stop deaths . said army should be deployed to \u001b[0;33mprevent\u001b[0m asylum \u001b[0;33mseekers\u001b[0m arriving on land . he has ordered australian military to turn back boats carrying migrants . controversial move has seen near - daily arrivals fall significantly , with no reported deaths at sea off the coast of australia so far this year . europe has been urged to copy australia 's military - led ` stop the boats ' policy to avoid migrant tragedies in the mediterranean . australian pm tony \u001b[0;32mabbott\u001b[0m -- who sends naval gunboats to turn back asylum seekers before they reach australia -- \u001b[0;32msaid\u001b[0m the \u001b[0;32meu\u001b[0m should ` urgently ' \u001b[0;32mfollow\u001b[0m his \u001b[0;32mlead\u001b[0m . his hardline policy has proved controversial but mr abbott said \u001b[0;32mit\u001b[0m \u001b[0;32mwas\u001b[0m the only way to \u001b[0;33mprevent\u001b[0m \u001b[0;33mdisasters\u001b[0m such as the loss of 900 lives when a fishing boat capsized on saturday night . hardline : tony abbott , whose conservative government introduced a military - led operation to turn back boats carrying asylum - seekers before they reach australia , said harsh measures are the only way to stop deaths . haunted : surviving immigrants who escaped the boat that capsized in the mediterranean sea killing up to 900 people appear deep in thought as they arrive in the sicilian port city of catania yesterday morning . solemn : a young man , bows his head as he makes the short walk from the rescue boat 's deck to the catania shore where hundreds of people had gathered . new life : members of the italian police look on as a migrant who survived the ship sinking off the coast of libya walks the ramp of an italian coast guard 's vessel upon arrival at catania 's port yesterday morning . he said : ` the only way you can stop the deaths is to stop the boats . ` that 's why it is so urgent that the countries of europe adopt very strong policies that will end the people - smuggling trade across the mediterranean . ' conservative mr \u001b[0;32mabbott\u001b[0m \u001b[0;32mwon\u001b[0m \u001b[0;32mpower\u001b[0m in 2013 on a ` \u001b[0;32mstop\u001b[0m the boats ' \u001b[0;32mpledge\u001b[0m , and not a single one has breached his ring of steel in 18 months . operation sovereign borders involves the australian navy intercepting boats filled with migrants at sea , and either turning them back or towing them back to where they came from . mr abbott has previously said he was sick of being lectured to by the united nations over australia 's obligations to refugees , saying his policy was the ` most decent , most compassionate ' solution . in the mediterranean , callous people smugglers have been exploiting a willingness by european nations to rescue migrants rather than send them back . last\n",
      "===========================================================================================\n",
      "Summary 38: australian pm tony \u001b[0;32mabbott\u001b[0m \u001b[0;32msaid\u001b[0m \u001b[0;32meu\u001b[0m should ` urgently ' \u001b[0;32mfollow\u001b[0m his \u001b[0;32mlead\u001b[0m . mr \u001b[0;32mabbott\u001b[0m \u001b[0;32msaid\u001b[0m \u001b[0;32mit\u001b[0m \u001b[0;32mwas\u001b[0m the only way to \u001b[0;33mprevent\u001b[0m migrant \u001b[0;33mtragedies\u001b[0m in the mediterranean . mr \u001b[0;32mabbott\u001b[0m \u001b[0;32mwon\u001b[0m \u001b[0;32mpower\u001b[0m in 2013 on a ` \u001b[0;32mstop\u001b[0m the boats ' \u001b[0;32mpledge\u001b[0m .\n",
      "Score: (85.71428571428571, 14.285714285714286, 0.0)\n",
      "Avg copy length: 5.777777777777778\n",
      "===========================================================================================\n",
      "===========================================================================================\n",
      "===========================================================================================\n",
      "Src 39: usain \u001b[0;33mbolt\u001b[0m \u001b[0;33mwants\u001b[0m to \u001b[0;33mbeat\u001b[0m own 200-metre \u001b[0;33mrecord\u001b[0m by running sub 19 seconds . bolt had injuries last season as justin gatlin dominated sprint scene . but jamaican insists when \u001b[0;33mhe\u001b[0m \u001b[0;33mis\u001b[0m fit \u001b[0;33mhe\u001b[0m \u001b[0;33mis\u001b[0m almost impossible to \u001b[0;33mbeat\u001b[0m . usain bolt has revealed he wants to smash his own 200-metre world record by running the distance in under 19 seconds and insists \u001b[0;33mhe\u001b[0m \u001b[0;33mis\u001b[0m almost impossible to \u001b[0;33mbeat\u001b[0m when \u001b[0;33mhe\u001b[0m \u001b[0;33mis\u001b[0m fully fit . the six - time olympic gold \u001b[0;33mmedallist\u001b[0m \u001b[0;33mis\u001b[0m currently in rio de janeiro , acclimatising ahead of next year 's olympic games in the brazilian capital , and will \u001b[0;33mcompete\u001b[0m in the ` mano a mano ' 100-metre challenge on sunday . the jamaican \u001b[0;32msprinter\u001b[0m \u001b[0;32mran\u001b[0m the 200 \u001b[0;32mmetres\u001b[0m in 19.19 sec at the 2009 world championships in berlin and bolt \u001b[0;33mis\u001b[0m confident \u001b[0;32mhe\u001b[0m could \u001b[0;32mshave\u001b[0m two \u001b[0;32mtenths\u001b[0m off that time despite clocking a disappointing 20.20 sec at the utech classic in his home country last saturday . usain bolt poses with sprinter veronica campbell - brown and paralimpic sprinter alan fonteles on friday ahead of competing in the ` mano a mano ' 100-metre event in rio de janeiro . \u001b[0;32mbolt\u001b[0m \u001b[0;32msays\u001b[0m \u001b[0;33mhe\u001b[0m \u001b[0;33mwant\u001b[0m to \u001b[0;33mbeat\u001b[0m his own 200-metre world \u001b[0;33mrecord\u001b[0m by running under 19 seconds . ' i definitely want to break the 200-metre record \u001b[0;33mthat\u001b[0m \u001b[0;33mis\u001b[0m one of my biggest goals , \u001b[0;33mit\u001b[0m \u001b[0;33mis\u001b[0m actually to \u001b[0;33mrun\u001b[0m under 19 seconds , ' said bolt . ' i think this season it will be hard to do , but i want to stay injury free this season so i can go into olympic season in the best shape so it will be much easier to attempt the record . ` all i 'm focusing on right now \u001b[0;33mis\u001b[0m just taking my time and getting through the season , getting my runs in , getting better over the season , getting to the world championships and doing my best . ' bolt spent much of last - season nursing injuries while american rival justin gatlin dominated the sprint circuit setting times of 9.77 sec and 19.68 in the 100 and 200 metres respectively . bolt runs with children during visit to sports complex at mangueira shantytown in rio on thursday . bolt insists that when \u001b[0;33mhe\u001b[0m \u001b[0;33mis\u001b[0m fully fit \u001b[0;33mhe\u001b[0m \u001b[0;33mis\u001b[0m almost impossible to \u001b[0;33mbeat\u001b[0m . but bolt insists he has nothing to worry about when \u001b[0;33mhe\u001b[0m \u001b[0;33mis\u001b[0m fully fit , insisting \u001b[0;33mit\u001b[0m \u001b[0;33mis\u001b[0m almost impossible to \u001b[0;33mbeat\u001b[0m \u001b[0;33mhim\u001b[0m . ` when it comes to rivals , i always say there are seven people beside me in the lane that count , '\n",
      "===========================================================================================\n",
      "Summary 39: the jamaican \u001b[0;32msprinter\u001b[0m \u001b[0;32mran\u001b[0m the 200 \u001b[0;32mmetres\u001b[0m in 19.19 sec at the 2009 world championships in berlin and bolt is confident \u001b[0;32mhe\u001b[0m could \u001b[0;32mshave\u001b[0m two \u001b[0;32mtenths\u001b[0m off under 19 seconds . \u001b[0;32mbolt\u001b[0m \u001b[0;32msays\u001b[0m \u001b[0;33mhe\u001b[0m \u001b[0;33mis\u001b[0m almost impossible to \u001b[0;33mbeat\u001b[0m when \u001b[0;33mhe\u001b[0m \u001b[0;33mis\u001b[0m fully fit . \u001b[0;33mhe\u001b[0m will \u001b[0;33mcompete\u001b[0m in the ` mano a mano ' 100-metre challenge on sunday .\n",
      "Score: (50.0, 50.0, 0.0)\n",
      "Avg copy length: 10.333333333333334\n",
      "===========================================================================================\n",
      "===========================================================================================\n"
     ]
    }
   ],
   "source": [
    "verbose = False\n",
    "\n",
    "line_num = 0 \n",
    "scores = []\n",
    "src_lines = []\n",
    "gen_lines = []\n",
    "with open(\"data/bottom-up/test.txt.src.tagged.shuf.400words\") as src:\n",
    "    with open(\"data/bottom-up/test.txt.tgt.tagged.shuf.noslash\") as tgt:\n",
    "        with open(\"data/bottom-up/bottom_up_cnndm_015_threshold.out\") as gen:\n",
    "# with open(\"data/bottom-up/articles.txt\") as src:\n",
    "#     with open(\"data/bottom-up/decoded.txt\") as gen:\n",
    "            for i, (orig_src_line, tgt_line, gen_line) in enumerate(zip(src, tgt, gen)):\n",
    "    #             if i < 30:\n",
    "    #                 continue\n",
    "                if line_num > 0 and not i == line_num:\n",
    "                    continue\n",
    "                if line_num == 0 and i >= 40:\n",
    "                    break\n",
    "                orig_src_line = clean_src(orig_src_line)\n",
    "                tgt_line = clean_src(tgt_line)\n",
    "                src_line = tgt_line + ' ' + orig_src_line\n",
    "                src_lines.append(src_line)\n",
    "                gen_line = clean_gen(gen_line)\n",
    "                gen_lines.append(gen_line)\n",
    "                important_relations, score, (colored_src, colored_gen) = test(src_line, gen_line)\n",
    "                print(\"===========================================================================================\")\n",
    "                print(f\"Src {i}:\"%{i:i}, colored_src)\n",
    "                print(\"===========================================================================================\")\n",
    "                print(f\"Summary {i}:\"%{i:i}, colored_gen)\n",
    "                print(\"Score:\", score)\n",
    "                avg_length = avg_copy_length(orig_src_line, gen_line)\n",
    "                print(\"Avg copy length:\", avg_length)\n",
    "                print(\"===========================================================================================\")\n",
    "                print(\"===========================================================================================\")\n",
    "                scores.append(score)\n",
    "\n"
   ]
  },
  {
   "cell_type": "code",
   "execution_count": 10,
   "metadata": {},
   "outputs": [
    {
     "ename": "IndexError",
     "evalue": "list index out of range",
     "output_type": "error",
     "traceback": [
      "\u001b[0;31m---------------------------------------------------------------------------\u001b[0m",
      "\u001b[0;31mIndexError\u001b[0m                                Traceback (most recent call last)",
      "\u001b[0;32m<ipython-input-10-83f3dcab74e2>\u001b[0m in \u001b[0;36m<module>\u001b[0;34m\u001b[0m\n\u001b[0;32m----> 1\u001b[0;31m \u001b[0;32mfor\u001b[0m \u001b[0mtoken\u001b[0m \u001b[0;32min\u001b[0m \u001b[0mnlp\u001b[0m\u001b[0;34m(\u001b[0m\u001b[0msrc_lines\u001b[0m\u001b[0;34m[\u001b[0m\u001b[0;36m0\u001b[0m\u001b[0;34m]\u001b[0m\u001b[0;34m)\u001b[0m\u001b[0;34m:\u001b[0m\u001b[0;34m\u001b[0m\u001b[0;34m\u001b[0m\u001b[0m\n\u001b[0m\u001b[1;32m      2\u001b[0m     \u001b[0mprint\u001b[0m\u001b[0;34m(\u001b[0m\u001b[0mtoken\u001b[0m\u001b[0;34m,\u001b[0m \u001b[0mtoken\u001b[0m\u001b[0;34m.\u001b[0m\u001b[0mdep_\u001b[0m\u001b[0;34m,\u001b[0m \u001b[0mtoken\u001b[0m\u001b[0;34m.\u001b[0m\u001b[0mpos_\u001b[0m\u001b[0;34m,\u001b[0m \u001b[0mtoken\u001b[0m\u001b[0;34m.\u001b[0m\u001b[0mhead\u001b[0m\u001b[0;34m)\u001b[0m\u001b[0;34m\u001b[0m\u001b[0;34m\u001b[0m\u001b[0m\n",
      "\u001b[0;31mIndexError\u001b[0m: list index out of range"
     ]
    }
   ],
   "source": [
    "for token in nlp(src_lines[0]):\n",
    "    print(token, token.dep_, token.pos_, token.head)"
   ]
  },
  {
   "cell_type": "code",
   "execution_count": 975,
   "metadata": {
    "scrolled": false
   },
   "outputs": [
    {
     "name": "stdout",
     "output_type": "stream",
     "text": [
      "lara compound PROPN logan\n",
      "logan nsubj NOUN is\n",
      "is ROOT VERB is\n",
      "back advmod ADV home\n",
      "home advmod ADV is\n",
      "and cc CCONJ is\n",
      "recovering conj VERB is\n",
      "after mark ADP checked\n",
      "she nsubj PRON checked\n",
      "reportedly advmod ADV checked\n",
      "checked advcl VERB recovering\n",
      "into prep ADP checked\n",
      "a det DET hospital\n",
      "dc compound ADJ hospital\n",
      "hospital pobj NOUN into\n",
      "for prep ADP checked\n",
      "at advmod ADV least\n",
      "least advmod ADJ time\n",
      "the det DET time\n",
      "fourth amod ADJ time\n",
      "time pobj NOUN for\n",
      "this det DET year\n",
      "year npadvmod NOUN time\n",
      ". punct PUNCT is\n",
      "she nsubjpass PRON assaulted\n",
      "was auxpass VERB assaulted\n",
      "brutally advmod ADV sexually\n",
      "sexually advmod ADV assaulted\n",
      "assaulted ROOT VERB assaulted\n",
      "while mark ADP reporting\n",
      "reporting advcl VERB assaulted\n",
      "in prep ADP reporting\n",
      "egypt pobj PROPN in\n",
      "in prep ADP reporting\n",
      "2011 pobj NUM in\n",
      ". punct PUNCT assaulted\n",
      "she nsubjpass PRON rescued\n",
      "was auxpass VERB rescued\n",
      "rescued ROOT VERB rescued\n",
      "by agent ADP rescued\n",
      "a det DET mob\n",
      "mob pobj NOUN by\n",
      "of prep ADP mob\n",
      "200 nummod NUM men\n",
      "- punct SYM 300\n",
      "300 nummod NUM men\n",
      "men pobj NOUN of\n",
      "after mark ADP reporting\n",
      "she nsubj PRON reporting\n",
      "was aux VERB reporting\n",
      "reporting advcl VERB rescued\n",
      "from prep ADP reporting\n",
      "cairo pobj NOUN from\n",
      "on prep ADP reporting\n",
      "the det DET resignation\n",
      "resignation pobj NOUN on\n",
      "of prep ADP resignation\n",
      "president compound NOUN mubarak\n",
      "mubarak pobj NOUN of\n",
      ". punct PUNCT rescued\n"
     ]
    }
   ],
   "source": [
    "for token in nlp(gen_lines[0]):\n",
    "    print(token, token.dep_, token.pos_, token.head)"
   ]
  },
  {
   "cell_type": "markdown",
   "metadata": {},
   "source": [
    "# Score plot"
   ]
  },
  {
   "cell_type": "code",
   "execution_count": 66,
   "metadata": {},
   "outputs": [],
   "source": [
    "scores = np.load(\"sandbox/scores.npy\")"
   ]
  },
  {
   "cell_type": "code",
   "execution_count": 79,
   "metadata": {},
   "outputs": [
    {
     "data": {
      "image/png": "[encoded data removed]",
      "text/plain": [
       "<Figure size 432x288 with 1 Axes>"
      ]
     },
     "metadata": {
      "needs_background": "light"
     },
     "output_type": "display_data"
    }
   ],
   "source": [
    "plt.scatter(scores[:,0], scores[:,2], marker='.')\n",
    "plt.xlabel(\"% contained\")\n",
    "plt.ylabel(\"% contradiction\")\n",
    "plt.show()"
   ]
  },
  {
   "cell_type": "markdown",
   "metadata": {},
   "source": [
    "# Trying BERT embeddings...."
   ]
  },
  {
   "cell_type": "code",
   "execution_count": 35,
   "metadata": {
    "collapsed": true
   },
   "outputs": [
    {
     "data": {
      "text/plain": [
       "['relations between iran and saudi arabia have always been thorny , but rarely has the state of affairs been as venomous as it is today',\n",
       " 'tehran and riyadh each point to the other as the main reason for much of the turmoil in the middle east',\n",
       " 'in its most recent incarnation , the iranian-saudi conflict by proxy has reached yemen in a spiral that both sides portray as climatic',\n",
       " \"for riyadh and its regional allies , the saudi military intervention in yemen -- `` operation decisive storm'' -- is the moment the sunni arab nation finally woke up to repel the expansion of shia-iranian influence\",\n",
       " \"for tehran and its regional allies -- including the houthi movement in yemen -- saudi arabia's actions are in defense of a retrogressive status quo order that is no longer tenable\",\n",
       " 'and yet both sides have good reasons to want to stop the yemeni crisis from spiraling out of control and evolving into an unwinnable war',\n",
       " 'when iranian president hassan rouhani was elected in june 2013 , he pledged to reach out to riyadh',\n",
       " \"he was up front and called tehran's steep deterioration of relations with the saudis over the last decade as one of the principal burdens on iranian foreign policy\",\n",
       " 'from lebanon and afghanistan to pakistan and the gaza strip , the iranian-saudi rivalry and conflict through proxy has been deep and costly',\n",
       " \"and yet despite rouhani's open pledge , profound differences over syria and iraq in particular have kept riyadh and tehran apart\",\n",
       " 'but if the questions of syria and iraq prevented a pause in hostilities , the saudi military intervention in yemen since late march has all but raised the stakes to unprecedentedly dangerous levels',\n",
       " 'unlike in syria and in iraq , the saudi military is now directly battling it out with iranian-backed rebels in yemen',\n",
       " \"while riyadh no doubt exaggerates tehran's role in the yemen crisis , its fingerprints are nonetheless evident\",\n",
       " \"`` iran provides financial support , weapons , training and intelligence to houthis ,'' gerald feierstein , a u.s. state department official and former yemen ambassador , told a congressional hearing last week\",\n",
       " '`` we believe that iran sees opportunities with the houthis to expand its influence in yemen and threaten saudi and gulf arab']"
      ]
     },
     "execution_count": 35,
     "metadata": {},
     "output_type": "execute_result"
    }
   ],
   "source": [
    "bert_embedding = BertEmbedding()\n",
    "embed = bert_embedding(src_lines[0].split(' . '))"
   ]
  },
  {
   "cell_type": "code",
   "execution_count": 51,
   "metadata": {
    "collapsed": true
   },
   "outputs": [
    {
     "data": {
      "text/plain": [
       "['relations',\n",
       " 'between',\n",
       " 'iran',\n",
       " 'and',\n",
       " 'saudi',\n",
       " 'arabia',\n",
       " 'have',\n",
       " 'always',\n",
       " 'been',\n",
       " 'thorny',\n",
       " ',',\n",
       " 'but',\n",
       " 'rarely',\n",
       " 'has',\n",
       " 'the',\n",
       " 'state',\n",
       " 'of',\n",
       " 'affairs',\n",
       " 'been',\n",
       " 'as',\n",
       " 'venomous']"
      ]
     },
     "execution_count": 51,
     "metadata": {},
     "output_type": "execute_result"
    }
   ],
   "source": [
    "embed[0][0]"
   ]
  },
  {
   "cell_type": "code",
   "execution_count": 54,
   "metadata": {},
   "outputs": [],
   "source": [
    "# for i in range(len(embed[0][1])):\n",
    "#     plt.scatter([embed[0][1][i][0]], [embed[0][1][i][1]], label=embed[0][0][i])\n",
    "# # plt.scatter([embed[0][1][i][0] for i in range(len(embed[0][1]))], \n",
    "# #             [embed[0][1][i][1] for i in range(len(embed[0][1]))])\n",
    "# # plt.scatter([embed[0][1][2][0]], [embed[0][1][2][1]])\n",
    "# # plt.scatter([embed[0][1][4][0]], [embed[0][1][4][1]])\n",
    "# # plt.scatter([embed[0][1][5][0]], [embed[0][1][5][1]])\n",
    "# plt.legend()\n",
    "# plt.show()"
   ]
  },
  {
   "cell_type": "code",
   "execution_count": 45,
   "metadata": {},
   "outputs": [
    {
     "data": {
      "text/plain": [
       "10.376158"
      ]
     },
     "execution_count": 45,
     "metadata": {},
     "output_type": "execute_result"
    }
   ],
   "source": [
    "np.linalg.norm(embed[0][1][4] - embed[0][1][5])"
   ]
  },
  {
   "cell_type": "code",
   "execution_count": 50,
   "metadata": {},
   "outputs": [
    {
     "name": "stdout",
     "output_type": "stream",
     "text": [
      "Vocab file is not found. Downloading.\n",
      "Downloading /Users/cliang/.mxnet/models/book_corpus_wiki_en_uncased-a6607397.zip from https://apache-mxnet.s3-accelerate.dualstack.amazonaws.com/gluon/dataset/vocab/book_corpus_wiki_en_uncased-a6607397.zip...\n",
      "Downloading /Users/cliang/.mxnet/models/bert_12_768_12_book_corpus_wiki_en_uncased-75cc780f.zip from https://apache-mxnet.s3-accelerate.dualstack.amazonaws.com/gluon/models/bert_12_768_12_book_corpus_wiki_en_uncased-75cc780f.zip...\n"
     ]
    }
   ],
   "source": [
    "bert_embedding = BertEmbedding()"
   ]
  },
  {
   "cell_type": "code",
   "execution_count": 63,
   "metadata": {},
   "outputs": [],
   "source": [
    "i=0\n",
    "with open(\"data/test.txt.src.tagged.shuf.400words\") as src:\n",
    "    with open(\"data/bottom_up_cnndm_015_threshold.out\") as gen:\n",
    "        for src_line0, gen_line0 in zip(src, gen):\n",
    "            if(i >= 8):\n",
    "                break\n",
    "#             print(src_line0)\n",
    "            i+=1"
   ]
  },
  {
   "cell_type": "code",
   "execution_count": 75,
   "metadata": {},
   "outputs": [],
   "source": [
    "sentence = gen_line.split(' . ')"
   ]
  },
  {
   "cell_type": "code",
   "execution_count": 91,
   "metadata": {},
   "outputs": [],
   "source": [
    "result = bert_embedding([\"I ate a dog\", \"I ate a cat\"])\n"
   ]
  },
  {
   "cell_type": "code",
   "execution_count": 92,
   "metadata": {},
   "outputs": [
    {
     "data": {
      "text/plain": [
       "['i', 'ate', 'a', 'dog']"
      ]
     },
     "execution_count": 92,
     "metadata": {},
     "output_type": "execute_result"
    }
   ],
   "source": [
    "result[0][0]"
   ]
  },
  {
   "cell_type": "code",
   "execution_count": 93,
   "metadata": {
    "collapsed": true
   },
   "outputs": [
    {
     "data": {
      "text/plain": [
       "6.3448873"
      ]
     },
     "execution_count": 93,
     "metadata": {},
     "output_type": "execute_result"
    }
   ],
   "source": [
    "np.linalg.norm(result[1][1][3]- result[0][1][3])"
   ]
  },
  {
   "cell_type": "code",
   "execution_count": 94,
   "metadata": {},
   "outputs": [
    {
     "data": {
      "text/plain": [
       "2.9955516"
      ]
     },
     "execution_count": 94,
     "metadata": {},
     "output_type": "execute_result"
    }
   ],
   "source": [
    "np.linalg.norm(result[1][1][1]- result[0][1][1])"
   ]
  },
  {
   "cell_type": "code",
   "execution_count": null,
   "metadata": {},
   "outputs": [],
   "source": []
  }
 ],
 "metadata": {
  "kernelspec": {
   "display_name": "Python 3",
   "language": "python",
   "name": "python3"
  },
  "language_info": {
   "codemirror_mode": {
    "name": "ipython",
    "version": 3
   },
   "file_extension": ".py",
   "mimetype": "text/x-python",
   "name": "python",
   "nbconvert_exporter": "python",
   "pygments_lexer": "ipython3",
   "version": "3.7.3"
  }
 },
 "nbformat": 4,
 "nbformat_minor": 2
}
